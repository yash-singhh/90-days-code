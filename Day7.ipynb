{
 "cells": [
  {
   "cell_type": "code",
   "execution_count": 6,
   "id": "178f47d5",
   "metadata": {},
   "outputs": [
    {
     "name": "stdout",
     "output_type": "stream",
     "text": [
      "Prime numbers up to 100:\n",
      "2 3 5 7 11 13 17 19 23 29 31 37 41 43 47 53 59 61 67 71 73 79 83 89 97 \n"
     ]
    }
   ],
   "source": [
    "#printing prime no\n",
    "\n",
    "n=int(input(\"Enter a number: \"))\n",
    "\n",
    "def is_prime(n):\n",
    "    if n <= 1:\n",
    "        return False\n",
    "    for i in range(2, int(n**0.5) + 1):\n",
    "        if n % i == 0:\n",
    "            return False\n",
    "    return True\n",
    "\n",
    "\n",
    "print(f\"Prime numbers up to {n}:\")\n",
    "for num in range(2, n + 1):\n",
    "    if is_prime(num):\n",
    "        print(num, end=\" \")\n",
    "print()  # for a new line after printing all prime numbers"
   ]
  },
  {
   "cell_type": "code",
   "execution_count": null,
   "id": "86a05be3",
   "metadata": {},
   "outputs": [],
   "source": [
    "n = int(input(\"Enter a no\"))\n",
    "\n",
    "def is_prime(n):\n",
    "    if n<=1:\n",
    "        return False\n",
    "    for i in range(2, int(n**0.5) +1):\n",
    "        if n%i ==0:\n",
    "            return False\n",
    "    return True"
   ]
  },
  {
   "cell_type": "code",
   "execution_count": 7,
   "id": "46edf65a",
   "metadata": {},
   "outputs": [
    {
     "name": "stdout",
     "output_type": "stream",
     "text": [
      "Reversed string: \\hsay\n"
     ]
    }
   ],
   "source": [
    "#reverse string\n",
    "s =input(\"enter a string\")\n",
    "def reverse_string(s):\n",
    "    return s[::-1]\n",
    "\n",
    "print(\"Reversed string:\", reverse_string(s))"
   ]
  },
  {
   "cell_type": "code",
   "execution_count": 9,
   "id": "a646fbd4",
   "metadata": {},
   "outputs": [
    {
     "name": "stdout",
     "output_type": "stream",
     "text": [
      "reverse string ynnej\n"
     ]
    }
   ],
   "source": [
    "s= input(\"enter a string\")\n",
    "\n",
    "print(\"reverse string\", s[::-1])"
   ]
  },
  {
   "cell_type": "code",
   "execution_count": null,
   "id": "2158037a",
   "metadata": {},
   "outputs": [
    {
     "name": "stdout",
     "output_type": "stream",
     "text": [
      "palendrome\n"
     ]
    }
   ],
   "source": [
    "#string is palandrome\n",
    "txt= input(\"enter a string\")\n",
    "\n",
    "if txt==txt[::-1]:\n",
    "    print(\"palendrome\")\n",
    "else:\n",
    "    print(\"not palendrome\")"
   ]
  },
  {
   "cell_type": "code",
   "execution_count": 16,
   "id": "66d4e5f0",
   "metadata": {},
   "outputs": [
    {
     "name": "stdout",
     "output_type": "stream",
     "text": [
      "number of vowels: 1\n",
      "number of consonants: 5\n"
     ]
    }
   ],
   "source": [
    "#counting vowels\n",
    "txt= input(\"enter a string\")\n",
    "\n",
    "vowels = \"aeiouAEIOU\"\n",
    "v = sum(1 for char in s if char in vowels)\n",
    "c= sum(1 for char in s if char.isalpha())\n",
    "print(\"number of vowels:\", v)\n",
    "print(\"number of consonants:\", c)\n",
    "\n",
    "\n"
   ]
  },
  {
   "cell_type": "code",
   "execution_count": 17,
   "id": "5fe789c7",
   "metadata": {},
   "outputs": [
    {
     "name": "stdout",
     "output_type": "stream",
     "text": [
      "Most frequent character: 'o' appears 3 times\n"
     ]
    }
   ],
   "source": [
    "from collections import Counter\n",
    "\n",
    "s = input(\"Enter a string: \")\n",
    "counter = Counter(s)\n",
    "most_common = counter.most_common(1)[0]\n",
    "print(f\"Most frequent character: '{most_common[0]}' appears {most_common[1]} times\")\n"
   ]
  },
  {
   "cell_type": "code",
   "execution_count": null,
   "id": "efda54f2",
   "metadata": {},
   "outputs": [],
   "source": []
  }
 ],
 "metadata": {
  "kernelspec": {
   "display_name": ".venv",
   "language": "python",
   "name": "python3"
  },
  "language_info": {
   "codemirror_mode": {
    "name": "ipython",
    "version": 3
   },
   "file_extension": ".py",
   "mimetype": "text/x-python",
   "name": "python",
   "nbconvert_exporter": "python",
   "pygments_lexer": "ipython3",
   "version": "3.11.4"
  }
 },
 "nbformat": 4,
 "nbformat_minor": 5
}
