{
  "nbformat": 4,
  "nbformat_minor": 0,
  "metadata": {
    "colab": {
      "provenance": []
    },
    "kernelspec": {
      "name": "python3",
      "display_name": "Python 3"
    },
    "language_info": {
      "name": "python"
    }
  },
  "cells": [
    {
      "cell_type": "code",
      "execution_count": 1,
      "metadata": {
        "colab": {
          "base_uri": "https://localhost:8080/"
        },
        "id": "-ZuPodKtpNA4",
        "outputId": "9a5ce484-7760-4344-cd7b-5adeaa6b7378"
      },
      "outputs": [
        {
          "output_type": "stream",
          "name": "stdout",
          "text": [
            "lets go champ Day 23\n"
          ]
        }
      ],
      "source": [
        "\n",
        "print(\"lets go champ Day 23\")"
      ]
    },
    {
      "cell_type": "code",
      "source": [
        "student = {\"name\": \"yash\",\"gread\": \"A\", \"roll_no\":21}\n",
        "print(student)"
      ],
      "metadata": {
        "colab": {
          "base_uri": "https://localhost:8080/"
        },
        "id": "Nwy7IDLlEAj_",
        "outputId": "c4d8c36a-e6c6-4c7d-dd5c-e940b6b18b5a"
      },
      "execution_count": 19,
      "outputs": [
        {
          "output_type": "stream",
          "name": "stdout",
          "text": [
            "{'name': 'yash', 'gread': 'A', 'roll_no': 21}\n"
          ]
        }
      ]
    },
    {
      "cell_type": "code",
      "source": [
        "student = {\"name\": \"Jenny\", \"grade\": \"A\", \"roll_no\": 12}\n",
        "for key, value in student.items():\n",
        "    print(key, \":\", value)\n"
      ],
      "metadata": {
        "colab": {
          "base_uri": "https://localhost:8080/"
        },
        "id": "zYXvzpS5EAWF",
        "outputId": "f552b079-4509-44cf-ab50-c7104feaef9a"
      },
      "execution_count": 21,
      "outputs": [
        {
          "output_type": "stream",
          "name": "stdout",
          "text": [
            "name : Jenny\n",
            "grade : A\n",
            "roll_no : 12\n"
          ]
        }
      ]
    },
    {
      "cell_type": "code",
      "source": [
        "car ={\"brand\":\"Toyota\",\"model\":\"Camry\",\"year\":2022}\n",
        "car[\"color\"]= \"yellow\"\n",
        "\n",
        "print(car)"
      ],
      "metadata": {
        "colab": {
          "base_uri": "https://localhost:8080/"
        },
        "id": "6c3sMrIkEAIo",
        "outputId": "4a76c2cb-bf8a-432b-da0d-0138accd4484"
      },
      "execution_count": 22,
      "outputs": [
        {
          "output_type": "stream",
          "name": "stdout",
          "text": [
            "{'brand': 'Toyota', 'model': 'Camry', 'year': 2022, 'color': 'yellow'}\n"
          ]
        }
      ]
    },
    {
      "cell_type": "code",
      "source": [
        "data = {\"x\": 10, \"y\": 20}\n",
        "if \"y\" in data:\n",
        "    print(\"Key exists!\")\n",
        "else:\n",
        "    print(\"Key does not exist.\")\n"
      ],
      "metadata": {
        "colab": {
          "base_uri": "https://localhost:8080/"
        },
        "id": "5h6NENb5D_51",
        "outputId": "bdeb924e-f650-4797-9d8d-3053c596df52"
      },
      "execution_count": 23,
      "outputs": [
        {
          "output_type": "stream",
          "name": "stdout",
          "text": [
            "Key exists!\n"
          ]
        }
      ]
    },
    {
      "cell_type": "code",
      "source": [
        "info = {\"name\": \"champ\", \"age\": 22, \"city\": \"Delhi\"}\n",
        "info.pop(\"age\")\n",
        "print(info)\n"
      ],
      "metadata": {
        "colab": {
          "base_uri": "https://localhost:8080/"
        },
        "id": "cfDbw9qUGEio",
        "outputId": "6dbdb5a3-1efd-4c86-870d-30c0cb60532b"
      },
      "execution_count": 25,
      "outputs": [
        {
          "output_type": "stream",
          "name": "stdout",
          "text": [
            "{'name': 'champ', 'city': 'Delhi'}\n"
          ]
        }
      ]
    },
    {
      "cell_type": "code",
      "source": [
        "scores = {\"math\": 90, \"science\": 85, \"english\": 88}\n",
        "for value in scores.values():\n",
        "    print(value)\n"
      ],
      "metadata": {
        "id": "V2M68Wd-GNsf",
        "outputId": "92b9560f-8d6e-4223-9de8-3a6fb651abf0",
        "colab": {
          "base_uri": "https://localhost:8080/"
        }
      },
      "execution_count": 26,
      "outputs": [
        {
          "output_type": "stream",
          "name": "stdout",
          "text": [
            "90\n",
            "85\n",
            "88\n"
          ]
        }
      ]
    },
    {
      "cell_type": "code",
      "source": [
        "def merge_arrays(arr1, arr2):\n",
        "  arr3 =arr1 + arr2\n",
        "  arr3.sort()\n",
        "  return arr3\n",
        "\n",
        "\n",
        "\n",
        "\n",
        "arr1 =[1,2,3,4,5]\n",
        "arr2 =[6,7,8,9,10]\n",
        "arr3 = merge_arrays( arr1,arr2)\n",
        "print(arr3)"
      ],
      "metadata": {
        "colab": {
          "base_uri": "https://localhost:8080/"
        },
        "id": "S4K-YRphg-13",
        "outputId": "a51ef9e2-3831-4f78-9f05-de6d0ea4b04f"
      },
      "execution_count": 2,
      "outputs": [
        {
          "output_type": "stream",
          "name": "stdout",
          "text": [
            "[1, 2, 3, 4, 5, 6, 7, 8, 9, 10]\n"
          ]
        }
      ]
    },
    {
      "cell_type": "code",
      "source": [
        "# Function to merge two arrays and sort the result\n",
        "def merge_arrays(arr1, arr2):\n",
        "    arr3 = arr1 + arr2\n",
        "    arr3.sort()\n",
        "    return arr3\n",
        "\n",
        "# Driver code\n",
        "arr1 = [1, 3, 5, 7]\n",
        "arr2 = [2, 4, 6, 8]\n",
        "arr3 = merge_arrays(arr1, arr2)\n",
        "\n",
        "for value in arr3:\n",
        "    print(value, end=\" \")"
      ],
      "metadata": {
        "colab": {
          "base_uri": "https://localhost:8080/"
        },
        "id": "QQubVLRupDu3",
        "outputId": "16c838ab-9007-40a0-e16c-b33fb95ade37"
      },
      "execution_count": 3,
      "outputs": [
        {
          "output_type": "stream",
          "name": "stdout",
          "text": [
            "1 2 3 4 5 6 7 8 "
          ]
        }
      ]
    },
    {
      "cell_type": "code",
      "source": [
        "arrey = [1,2,3,4,5]\n",
        "arrey.sort()\n",
        "print(arrey)"
      ],
      "metadata": {
        "colab": {
          "base_uri": "https://localhost:8080/"
        },
        "id": "OWafKneYqN3F",
        "outputId": "b580755c-59b7-4e1d-8976-6403dc41e922"
      },
      "execution_count": 4,
      "outputs": [
        {
          "output_type": "stream",
          "name": "stdout",
          "text": [
            "[1, 2, 3, 4, 5]\n"
          ]
        }
      ]
    },
    {
      "cell_type": "code",
      "source": [
        "arrey = [1,2,3,4,5]\n",
        "arrey.sort(reverse=True)\n",
        "print(arrey)\n",
        "\n",
        "\n",
        "for number in arrey:\n",
        "  if number % 2 == 0:\n",
        "      print(number)\n"
      ],
      "metadata": {
        "colab": {
          "base_uri": "https://localhost:8080/"
        },
        "id": "usGAE3Q7qcgL",
        "outputId": "d4d2fbc1-4aa8-44ec-9cf6-7d05981d7fa5"
      },
      "execution_count": 5,
      "outputs": [
        {
          "output_type": "stream",
          "name": "stdout",
          "text": [
            "[5, 4, 3, 2, 1]\n",
            "4\n",
            "2\n"
          ]
        }
      ]
    },
    {
      "cell_type": "code",
      "source": [
        "def merge_arrays(arr1, arr2):\n",
        "  arr3 =arr1 + arr2\n",
        "  arr3.sort()\n",
        "  return arr3\n",
        "\n",
        "arr1 =[1,2,0.3,40,5]\n",
        "arr2 =[6,70,8,9,10]\n",
        "arr3 = merge_arrays( arr1,arr2)\n",
        "print(arr3)\n",
        "\n",
        "\n",
        "#print off number\n",
        "arrey = [1,2,3,4,5]\n",
        "arrey.sort(reverse=True)\n",
        "print(arrey)\n",
        "\n",
        "\n",
        "for number in arrey:\n",
        "  if number % 2 != 0:\n",
        "      print(number)\n"
      ],
      "metadata": {
        "colab": {
          "base_uri": "https://localhost:8080/"
        },
        "id": "rN6iKuOHqjvb",
        "outputId": "89c6ee0a-cccc-4494-9aa2-71012ea6aca8"
      },
      "execution_count": 6,
      "outputs": [
        {
          "output_type": "stream",
          "name": "stdout",
          "text": [
            "[0.3, 1, 2, 5, 6, 8, 9, 10, 40, 70]\n",
            "[5, 4, 3, 2, 1]\n",
            "5\n",
            "3\n",
            "1\n"
          ]
        }
      ]
    },
    {
      "cell_type": "code",
      "source": [
        "arr1 =[1,2,0.3,40,5]\n",
        "print(arr1[::-1])"
      ],
      "metadata": {
        "colab": {
          "base_uri": "https://localhost:8080/"
        },
        "id": "Gda9nTIBrjc0",
        "outputId": "6232a972-dbb0-401a-d6b3-ca7d59a30c2a"
      },
      "execution_count": 7,
      "outputs": [
        {
          "output_type": "stream",
          "name": "stdout",
          "text": [
            "[5, 40, 0.3, 2, 1]\n"
          ]
        }
      ]
    },
    {
      "cell_type": "code",
      "source": [
        "arr2 =['yashu','champ',\"jenny\"]\n",
        "print(arr2[::-1])\n",
        "print(arr2[0])\n",
        "print(arr1[::-1])"
      ],
      "metadata": {
        "colab": {
          "base_uri": "https://localhost:8080/"
        },
        "id": "4KmjgdUks36Z",
        "outputId": "bab1a59b-6231-4595-8c30-b8d10026e08d"
      },
      "execution_count": 8,
      "outputs": [
        {
          "output_type": "stream",
          "name": "stdout",
          "text": [
            "['jenny', 'champ', 'yashu']\n",
            "yashu\n",
            "[5, 40, 0.3, 2, 1]\n"
          ]
        }
      ]
    },
    {
      "cell_type": "code",
      "source": [
        "arrey = [1, 2, 3, 4, 5, 6, 7]\n",
        "\n",
        "for num in arrey:\n",
        "    if num % 2 == 0:\n",
        "       print('this are even number',num)\n",
        "\n",
        "for num in arrey :\n",
        "  if num % 2 != 0:\n",
        "    print(num)\n",
        "\n",
        "#arrey % 2 !=0\n",
        "#print(arrey)"
      ],
      "metadata": {
        "colab": {
          "base_uri": "https://localhost:8080/"
        },
        "id": "0sMil42LtEwK",
        "outputId": "32be394c-6f49-4b69-997c-69475b2d5f3d"
      },
      "execution_count": 9,
      "outputs": [
        {
          "output_type": "stream",
          "name": "stdout",
          "text": [
            "this are even number 2\n",
            "this are even number 4\n",
            "this are even number 6\n",
            "1\n",
            "3\n",
            "5\n",
            "7\n"
          ]
        }
      ]
    },
    {
      "cell_type": "code",
      "source": [
        "value =[43,35,32,99,61,9]\n",
        "print(\"maximum\", max(value))\n",
        "print(\"minimum\", min(value))"
      ],
      "metadata": {
        "colab": {
          "base_uri": "https://localhost:8080/"
        },
        "id": "jC0p7bn4ungL",
        "outputId": "7f4cf98a-be42-410c-a0ac-1b4ec9893015"
      },
      "execution_count": 10,
      "outputs": [
        {
          "output_type": "stream",
          "name": "stdout",
          "text": [
            "maximum 99\n",
            "minimum 9\n"
          ]
        }
      ]
    },
    {
      "cell_type": "code",
      "source": [
        "num =[-1,2,-3,0,-9,2,6,8,10,-8]\n",
        "for number in num:\n",
        "  if number > 0:\n",
        "    print(number)"
      ],
      "metadata": {
        "colab": {
          "base_uri": "https://localhost:8080/"
        },
        "id": "SbAFzOszx4Hb",
        "outputId": "eec4745c-f9aa-4e8d-d83a-7f8d068d5799"
      },
      "execution_count": 11,
      "outputs": [
        {
          "output_type": "stream",
          "name": "stdout",
          "text": [
            "2\n",
            "2\n",
            "6\n",
            "8\n",
            "10\n"
          ]
        }
      ]
    },
    {
      "cell_type": "code",
      "source": [
        "nums = [-5, 3, -1, 7, 0, -2, 8]\n",
        "positive_nums = []\n",
        "for n in nums:\n",
        "    if n > 0:\n",
        "        positive_nums.append(n)\n",
        "print(\"Positive numbers:\", positive_nums)\n",
        "\n"
      ],
      "metadata": {
        "colab": {
          "base_uri": "https://localhost:8080/"
        },
        "id": "N9SG5xzbyPn1",
        "outputId": "c4a9f700-8cb2-4dd0-f1ad-8ee41ab9602a"
      },
      "execution_count": 12,
      "outputs": [
        {
          "output_type": "stream",
          "name": "stdout",
          "text": [
            "Positive numbers: [3, 7, 8]\n"
          ]
        }
      ]
    },
    {
      "cell_type": "code",
      "source": [
        "nums = [-5, 3, -1, 7, 0, -2, 8]\n",
        "negative_nums = []\n",
        "\n",
        "for n in nums:\n",
        "  if n <0:\n",
        "    negative_nums.append(n)\n",
        "print(\"Negative numbers:\", negative_nums)\n"
      ],
      "metadata": {
        "colab": {
          "base_uri": "https://localhost:8080/"
        },
        "id": "k1oIh8KtyYDY",
        "outputId": "be135a69-b36c-4fc7-9d0b-ca247a621211"
      },
      "execution_count": 13,
      "outputs": [
        {
          "output_type": "stream",
          "name": "stdout",
          "text": [
            "Negative numbers: [-5, -1, -2]\n"
          ]
        }
      ]
    },
    {
      "cell_type": "code",
      "source": [
        "nums = [-5, 3, -1, 7, 0, -2, 8]\n",
        "total=0\n",
        "for x in num:\n",
        "  total += x\n",
        "print(total)"
      ],
      "metadata": {
        "colab": {
          "base_uri": "https://localhost:8080/"
        },
        "id": "qfsxF8iUy-Vr",
        "outputId": "97f869e9-3b48-4d06-8792-b9882c2bc372"
      },
      "execution_count": 14,
      "outputs": [
        {
          "output_type": "stream",
          "name": "stdout",
          "text": [
            "7\n"
          ]
        }
      ]
    },
    {
      "cell_type": "code",
      "source": [
        "data = [3, 8, 1, 6, 10, 2]\n",
        "value =5\n",
        "for x in data :\n",
        "  if x > value:\n",
        "    print(x)"
      ],
      "metadata": {
        "colab": {
          "base_uri": "https://localhost:8080/"
        },
        "id": "8b-mvWfG0LEH",
        "outputId": "5754e0f7-4b62-4c84-d661-48352925653b"
      },
      "execution_count": 15,
      "outputs": [
        {
          "output_type": "stream",
          "name": "stdout",
          "text": [
            "8\n",
            "6\n",
            "10\n"
          ]
        }
      ]
    },
    {
      "cell_type": "code",
      "source": [
        "data = [3, 8, 1, 6, 10, 2]\n",
        "print(data[::-1])"
      ],
      "metadata": {
        "colab": {
          "base_uri": "https://localhost:8080/"
        },
        "id": "LuMV79io1bua",
        "outputId": "7d47fe1d-872c-48d4-9cfb-343b3ce61cc3"
      },
      "execution_count": 16,
      "outputs": [
        {
          "output_type": "stream",
          "name": "stdout",
          "text": [
            "[2, 10, 6, 1, 8, 3]\n"
          ]
        }
      ]
    },
    {
      "cell_type": "code",
      "source": [
        "nums = [2, 4, 6, 8,99]\n",
        "for n in nums:\n",
        "    print(f\"Square of {n} is {n**2}\")\n"
      ],
      "metadata": {
        "colab": {
          "base_uri": "https://localhost:8080/"
        },
        "id": "2Z6mIHy41hGw",
        "outputId": "1ccb50a6-d897-4dbe-d79c-814831e133aa"
      },
      "execution_count": 17,
      "outputs": [
        {
          "output_type": "stream",
          "name": "stdout",
          "text": [
            "Square of 2 is 4\n",
            "Square of 4 is 16\n",
            "Square of 6 is 36\n",
            "Square of 8 is 64\n",
            "Square of 99 is 9801\n"
          ]
        }
      ]
    },
    {
      "cell_type": "code",
      "source": [
        "num =[2,4,6,4,7,9,99]\n",
        "for x in num:\n",
        "  print(f\"Cube of {x} is {x**3}\")"
      ],
      "metadata": {
        "colab": {
          "base_uri": "https://localhost:8080/"
        },
        "id": "5WTHdalH11uO",
        "outputId": "4c719cef-acde-423c-d657-281c18b83ccf"
      },
      "execution_count": 18,
      "outputs": [
        {
          "output_type": "stream",
          "name": "stdout",
          "text": [
            "Cube of 2 is 8\n",
            "Cube of 4 is 64\n",
            "Cube of 6 is 216\n",
            "Cube of 4 is 64\n",
            "Cube of 7 is 343\n",
            "Cube of 9 is 729\n",
            "Cube of 99 is 970299\n"
          ]
        }
      ]
    },
    {
      "cell_type": "code",
      "source": [],
      "metadata": {
        "id": "MO5E9Tnx2O9Y"
      },
      "execution_count": 18,
      "outputs": []
    }
  ]
}