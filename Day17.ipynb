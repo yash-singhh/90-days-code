{
  "nbformat": 4,
  "nbformat_minor": 0,
  "metadata": {
    "colab": {
      "provenance": []
    },
    "kernelspec": {
      "name": "python3",
      "display_name": "Python 3"
    },
    "language_info": {
      "name": "python"
    }
  },
  "cells": [
    {
      "cell_type": "code",
      "execution_count": 6,
      "metadata": {
        "colab": {
          "base_uri": "https://localhost:8080/"
        },
        "id": "SwHk05Nx06XG",
        "outputId": "57949cb7-5fc6-4403-ae05-29ea10f8ba5c"
      },
      "outputs": [
        {
          "output_type": "stream",
          "name": "stdout",
          "text": [
            "start champ \n"
          ]
        }
      ],
      "source": [
        "print(\"start champ \")"
      ]
    },
    {
      "cell_type": "code",
      "source": [
        "def rev_string(s):\n",
        "  return s[::-1]\n",
        "\n",
        "print(rev_string(\"MY boy\"))"
      ],
      "metadata": {
        "colab": {
          "base_uri": "https://localhost:8080/"
        },
        "id": "5Hx3STfu1-9g",
        "outputId": "99fa2e3e-5b63-49b7-8ec5-01307ccad88b"
      },
      "execution_count": 7,
      "outputs": [
        {
          "output_type": "stream",
          "name": "stdout",
          "text": [
            "yob YM\n"
          ]
        }
      ]
    },
    {
      "cell_type": "code",
      "source": [
        "def count_vowels(s):\n",
        "    return sum(1 for c in s.lower() if c in 'aeiou')\n",
        "\n",
        "print(count_vowels(\"education\"))\n"
      ],
      "metadata": {
        "colab": {
          "base_uri": "https://localhost:8080/"
        },
        "id": "A9XE_dio1_-g",
        "outputId": "ac781a15-be24-4464-cd58-ce2b52a719fa"
      },
      "execution_count": 8,
      "outputs": [
        {
          "output_type": "stream",
          "name": "stdout",
          "text": [
            "5\n"
          ]
        }
      ]
    },
    {
      "cell_type": "code",
      "source": [
        "def remove_dupl(s):\n",
        "  result = \"\"\n",
        "  for x in s:\n",
        "    if x not in result:\n",
        "      result += x\n",
        "\n",
        "  return result\n",
        "\n",
        "\n",
        "print(remove_dupl(\"eleeeepphant\"))\n"
      ],
      "metadata": {
        "colab": {
          "base_uri": "https://localhost:8080/"
        },
        "id": "s0ZoPjDT21h4",
        "outputId": "94755dba-def4-4a5f-f93a-2ab85de08e36"
      },
      "execution_count": 9,
      "outputs": [
        {
          "output_type": "stream",
          "name": "stdout",
          "text": [
            "elphant\n"
          ]
        }
      ]
    },
    {
      "cell_type": "code",
      "source": [
        "from collections import Counter\n",
        "\n",
        "def most_frequent_char(s):\n",
        "    count = Counter(s)\n",
        "    return count.most_common(1)[0][0]\n",
        "\n",
        "print(most_frequent_char(\"statistics\"))\n"
      ],
      "metadata": {
        "colab": {
          "base_uri": "https://localhost:8080/"
        },
        "id": "SPETypywkCWV",
        "outputId": "0afc37d6-3063-48b6-a736-d1822a0cbd41"
      },
      "execution_count": 10,
      "outputs": [
        {
          "output_type": "stream",
          "name": "stdout",
          "text": [
            "s\n"
          ]
        }
      ]
    },
    {
      "cell_type": "code",
      "source": [
        "def capitalize_words(s):\n",
        "    return s.title()\n",
        "\n",
        "print(capitalize_words(\"machine learning model\"))\n"
      ],
      "metadata": {
        "colab": {
          "base_uri": "https://localhost:8080/"
        },
        "id": "boBi9Kks_U3S",
        "outputId": "b58c142d-3cd7-4852-ed36-1321fd260b72"
      },
      "execution_count": 11,
      "outputs": [
        {
          "output_type": "stream",
          "name": "stdout",
          "text": [
            "Machine Learning Model\n"
          ]
        }
      ]
    },
    {
      "cell_type": "code",
      "source": [
        "def are_anagrams(s1, s2):\n",
        "    return sorted(s1) == sorted(s2)\n",
        "\n",
        "print(are_anagrams(\"listen\", \"silent\"))\n"
      ],
      "metadata": {
        "colab": {
          "base_uri": "https://localhost:8080/"
        },
        "id": "GAL28stI_f26",
        "outputId": "c9bbdc8a-4f7c-4e59-c019-784e26c34627"
      },
      "execution_count": 12,
      "outputs": [
        {
          "output_type": "stream",
          "name": "stdout",
          "text": [
            "True\n"
          ]
        }
      ]
    },
    {
      "cell_type": "code",
      "source": [
        "def replace_spaces(s):\n",
        "    return s.replace(\" \", \"-\")\n",
        "\n",
        "print(replace_spaces(\"deep learning\"))\n"
      ],
      "metadata": {
        "colab": {
          "base_uri": "https://localhost:8080/"
        },
        "id": "WqPyA38D_pH_",
        "outputId": "7c6b8b9c-6ca3-4280-9ee2-00a684564ae8"
      },
      "execution_count": 13,
      "outputs": [
        {
          "output_type": "stream",
          "name": "stdout",
          "text": [
            "deep-learning\n"
          ]
        }
      ]
    },
    {
      "cell_type": "code",
      "source": [
        "def count_words(s):\n",
        "    return len(s.split())\n",
        "\n",
        "print(count_words(\"Data Science is fun\"))\n"
      ],
      "metadata": {
        "colab": {
          "base_uri": "https://localhost:8080/"
        },
        "id": "jnmfvJIP_yxz",
        "outputId": "5b07a337-de03-411d-8fd6-c313d72c0603"
      },
      "execution_count": 14,
      "outputs": [
        {
          "output_type": "stream",
          "name": "stdout",
          "text": [
            "4\n"
          ]
        }
      ]
    },
    {
      "cell_type": "code",
      "source": [
        "def all_substrings(s):\n",
        "    substrings = []\n",
        "    for i in range(len(s)):\n",
        "        for j in range(i + 1, len(s) + 1):\n",
        "            substrings.append(s[i:j])\n",
        "    return substrings\n",
        "\n",
        "print(all_substrings(\"abc\"))\n"
      ],
      "metadata": {
        "colab": {
          "base_uri": "https://localhost:8080/"
        },
        "id": "cIrl0qF-_3fD",
        "outputId": "50fd0c0b-099e-4c97-ab0c-7157eafe1977"
      },
      "execution_count": 15,
      "outputs": [
        {
          "output_type": "stream",
          "name": "stdout",
          "text": [
            "['a', 'ab', 'abc', 'b', 'bc', 'c']\n"
          ]
        }
      ]
    },
    {
      "cell_type": "code",
      "source": [],
      "metadata": {
        "id": "UrbqZCHTAAjI"
      },
      "execution_count": null,
      "outputs": []
    }
  ]
}