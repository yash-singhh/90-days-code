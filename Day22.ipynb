{
  "nbformat": 4,
  "nbformat_minor": 0,
  "metadata": {
    "colab": {
      "provenance": []
    },
    "kernelspec": {
      "name": "python3",
      "display_name": "Python 3"
    },
    "language_info": {
      "name": "python"
    }
  },
  "cells": [
    {
      "cell_type": "code",
      "execution_count": 2,
      "metadata": {
        "colab": {
          "base_uri": "https://localhost:8080/"
        },
        "id": "-ZuPodKtpNA4",
        "outputId": "c74bc3f9-eedb-47c9-d80c-ca0df9247f1f"
      },
      "outputs": [
        {
          "output_type": "stream",
          "name": "stdout",
          "text": [
            "lets go champ Day 22\n"
          ]
        }
      ],
      "source": [
        "\n",
        "print(\"lets go champ Day 22\")"
      ]
    },
    {
      "cell_type": "code",
      "source": [
        "def merge_arrays(arr1, arr2):\n",
        "  arr3 =arr1 + arr2\n",
        "  arr3.sort()\n",
        "  return arr3\n",
        "\n",
        "\n",
        "\n",
        "\n",
        "arr1 =[1,2,3,4,5]\n",
        "arr2 =[6,7,8,9,10]\n",
        "arr3 = merge_arrays( arr1,arr2)\n",
        "print(arr3)"
      ],
      "metadata": {
        "colab": {
          "base_uri": "https://localhost:8080/"
        },
        "id": "S4K-YRphg-13",
        "outputId": "e84beb13-5903-4ccb-c593-d33a82aaeb44"
      },
      "execution_count": 12,
      "outputs": [
        {
          "output_type": "stream",
          "name": "stdout",
          "text": [
            "[1, 2, 3, 4, 5, 6, 7, 8, 9, 10]\n"
          ]
        }
      ]
    },
    {
      "cell_type": "code",
      "source": [
        "# Function to merge two arrays and sort the result\n",
        "def merge_arrays(arr1, arr2):\n",
        "    arr3 = arr1 + arr2\n",
        "    arr3.sort()\n",
        "    return arr3\n",
        "\n",
        "# Driver code\n",
        "arr1 = [1, 3, 5, 7]\n",
        "arr2 = [2, 4, 6, 8]\n",
        "arr3 = merge_arrays(arr1, arr2)\n",
        "\n",
        "for value in arr3:\n",
        "    print(value, end=\" \")"
      ],
      "metadata": {
        "colab": {
          "base_uri": "https://localhost:8080/"
        },
        "id": "QQubVLRupDu3",
        "outputId": "5e88b6ef-81c7-49c5-f4ac-e06e11c9b4e4"
      },
      "execution_count": 11,
      "outputs": [
        {
          "output_type": "stream",
          "name": "stdout",
          "text": [
            "1 2 3 4 5 6 7 8 "
          ]
        }
      ]
    },
    {
      "cell_type": "code",
      "source": [
        "arrey = [1,2,3,4,5]\n",
        "arrey.sort()\n",
        "print(arrey)"
      ],
      "metadata": {
        "colab": {
          "base_uri": "https://localhost:8080/"
        },
        "id": "OWafKneYqN3F",
        "outputId": "6b344f7b-5b69-4ccd-c5d3-246c01c27559"
      },
      "execution_count": 13,
      "outputs": [
        {
          "output_type": "stream",
          "name": "stdout",
          "text": [
            "[1, 2, 3, 4, 5]\n"
          ]
        }
      ]
    },
    {
      "cell_type": "code",
      "source": [
        "arrey = [1,2,3,4,5]\n",
        "arrey.sort(reverse=True)\n",
        "print(arrey)\n",
        "\n",
        "\n",
        "for number in arrey:\n",
        "  if number % 2 == 0:\n",
        "      print(number)\n"
      ],
      "metadata": {
        "colab": {
          "base_uri": "https://localhost:8080/"
        },
        "id": "usGAE3Q7qcgL",
        "outputId": "8257ace7-fe06-4728-ee34-f010dd6ec703"
      },
      "execution_count": 16,
      "outputs": [
        {
          "output_type": "stream",
          "name": "stdout",
          "text": [
            "[5, 4, 3, 2, 1]\n",
            "4\n",
            "2\n"
          ]
        }
      ]
    },
    {
      "cell_type": "code",
      "source": [
        "def merge_arrays(arr1, arr2):\n",
        "  arr3 =arr1 + arr2\n",
        "  arr3.sort()\n",
        "  return arr3\n",
        "\n",
        "arr1 =[1,2,0.3,40,5]\n",
        "arr2 =[6,70,8,9,10]\n",
        "arr3 = merge_arrays( arr1,arr2)\n",
        "print(arr3)\n",
        "\n",
        "\n",
        "#print off number\n",
        "arrey = [1,2,3,4,5]\n",
        "arrey.sort(reverse=True)\n",
        "print(arrey)\n",
        "\n",
        "\n",
        "for number in arrey:\n",
        "  if number % 2 != 0:\n",
        "      print(number)\n"
      ],
      "metadata": {
        "colab": {
          "base_uri": "https://localhost:8080/"
        },
        "id": "rN6iKuOHqjvb",
        "outputId": "9b4c3f22-0a42-4022-dfeb-640641334694"
      },
      "execution_count": 20,
      "outputs": [
        {
          "output_type": "stream",
          "name": "stdout",
          "text": [
            "[0.3, 1, 2, 5, 6, 8, 9, 10, 40, 70]\n",
            "[5, 4, 3, 2, 1]\n",
            "5\n",
            "3\n",
            "1\n"
          ]
        }
      ]
    },
    {
      "cell_type": "code",
      "source": [
        "arr1 =[1,2,0.3,40,5]\n",
        "print(arr1[::-1])"
      ],
      "metadata": {
        "colab": {
          "base_uri": "https://localhost:8080/"
        },
        "id": "Gda9nTIBrjc0",
        "outputId": "aa093714-82c1-4467-f350-3b2259efac20"
      },
      "execution_count": 21,
      "outputs": [
        {
          "output_type": "stream",
          "name": "stdout",
          "text": [
            "[5, 40, 0.3, 2, 1]\n"
          ]
        }
      ]
    },
    {
      "cell_type": "code",
      "source": [
        "arr2 =['yashu','champ',\"jenny\"]\n",
        "print(arr2[::-1])\n",
        "print(arr2[0])\n",
        "print(arr1[::-1])"
      ],
      "metadata": {
        "colab": {
          "base_uri": "https://localhost:8080/"
        },
        "id": "4KmjgdUks36Z",
        "outputId": "ca8c677a-9da7-40b3-fc89-c5dd923e998f"
      },
      "execution_count": 26,
      "outputs": [
        {
          "output_type": "stream",
          "name": "stdout",
          "text": [
            "['jenny', 'champ', 'yashu']\n",
            "yashu\n",
            "[5, 40, 0.3, 2, 1]\n"
          ]
        }
      ]
    },
    {
      "cell_type": "code",
      "source": [
        "arrey = [1, 2, 3, 4, 5, 6, 7]\n",
        "\n",
        "for num in arrey:\n",
        "    if num % 2 == 0:\n",
        "       print('this are even number',num)\n",
        "\n",
        "for num in arrey :\n",
        "  if num % 2 != 0:\n",
        "    print(num)\n",
        "\n",
        "#arrey % 2 !=0\n",
        "#print(arrey)"
      ],
      "metadata": {
        "colab": {
          "base_uri": "https://localhost:8080/"
        },
        "id": "0sMil42LtEwK",
        "outputId": "cdc973f2-881a-44e7-bbaf-dec638ca73ba"
      },
      "execution_count": 37,
      "outputs": [
        {
          "output_type": "stream",
          "name": "stdout",
          "text": [
            "this are even number 2\n",
            "this are even number 4\n",
            "this are even number 6\n",
            "1\n",
            "3\n",
            "5\n",
            "7\n"
          ]
        }
      ]
    },
    {
      "cell_type": "code",
      "source": [
        "value =[43,35,32,99,61,9]\n",
        "print(\"maximum\", max(value))\n",
        "print(\"minimum\", min(value))"
      ],
      "metadata": {
        "colab": {
          "base_uri": "https://localhost:8080/"
        },
        "id": "jC0p7bn4ungL",
        "outputId": "8ae6bdb9-80e7-4407-d6f7-fa6ffe31d519"
      },
      "execution_count": 38,
      "outputs": [
        {
          "output_type": "stream",
          "name": "stdout",
          "text": [
            "maximum 99\n",
            "minimum 9\n"
          ]
        }
      ]
    },
    {
      "cell_type": "code",
      "source": [
        "num =[-1,2,-3,0,-9,2,6,8,10,-8]\n",
        "for number in num:\n",
        "  if number > 0:\n",
        "    print(number)"
      ],
      "metadata": {
        "colab": {
          "base_uri": "https://localhost:8080/"
        },
        "id": "SbAFzOszx4Hb",
        "outputId": "c3a552de-2c2d-4535-b0fd-f47b6dc73492"
      },
      "execution_count": 43,
      "outputs": [
        {
          "output_type": "stream",
          "name": "stdout",
          "text": [
            "2\n",
            "2\n",
            "6\n",
            "8\n",
            "10\n"
          ]
        }
      ]
    },
    {
      "cell_type": "code",
      "source": [
        "nums = [-5, 3, -1, 7, 0, -2, 8]\n",
        "positive_nums = []\n",
        "for n in nums:\n",
        "    if n > 0:\n",
        "        positive_nums.append(n)\n",
        "print(\"Positive numbers:\", positive_nums)\n",
        "\n"
      ],
      "metadata": {
        "colab": {
          "base_uri": "https://localhost:8080/"
        },
        "id": "N9SG5xzbyPn1",
        "outputId": "9f1b9d35-d995-4a0f-ad83-e2591d419607"
      },
      "execution_count": 41,
      "outputs": [
        {
          "output_type": "stream",
          "name": "stdout",
          "text": [
            "Positive numbers: [3, 7, 8]\n"
          ]
        }
      ]
    },
    {
      "cell_type": "code",
      "source": [
        "nums = [-5, 3, -1, 7, 0, -2, 8]\n",
        "negative_nums = []\n",
        "\n",
        "for n in nums:\n",
        "  if n <0:\n",
        "    negative_nums.append(n)\n",
        "print(\"Negative numbers:\", negative_nums)\n"
      ],
      "metadata": {
        "colab": {
          "base_uri": "https://localhost:8080/"
        },
        "id": "k1oIh8KtyYDY",
        "outputId": "cb4bc5fe-cbd7-48eb-beec-1107248f42a3"
      },
      "execution_count": 44,
      "outputs": [
        {
          "output_type": "stream",
          "name": "stdout",
          "text": [
            "Negative numbers: [-5, -1, -2]\n"
          ]
        }
      ]
    },
    {
      "cell_type": "code",
      "source": [
        "nums = [-5, 3, -1, 7, 0, -2, 8]\n",
        "total=0\n",
        "for x in num:\n",
        "  total += x\n",
        "print(total)"
      ],
      "metadata": {
        "colab": {
          "base_uri": "https://localhost:8080/"
        },
        "id": "qfsxF8iUy-Vr",
        "outputId": "b64d1a21-fa43-4f5a-f763-7383083c231e"
      },
      "execution_count": 49,
      "outputs": [
        {
          "output_type": "stream",
          "name": "stdout",
          "text": [
            "7\n"
          ]
        }
      ]
    },
    {
      "cell_type": "code",
      "source": [
        "data = [3, 8, 1, 6, 10, 2]\n",
        "value =5\n",
        "for x in data :\n",
        "  if x > value:\n",
        "    print(x)"
      ],
      "metadata": {
        "colab": {
          "base_uri": "https://localhost:8080/"
        },
        "id": "8b-mvWfG0LEH",
        "outputId": "4ffc4fa4-da22-41b7-f7b6-2716551fb429"
      },
      "execution_count": 50,
      "outputs": [
        {
          "output_type": "stream",
          "name": "stdout",
          "text": [
            "8\n",
            "6\n",
            "10\n"
          ]
        }
      ]
    },
    {
      "cell_type": "code",
      "source": [
        "data = [3, 8, 1, 6, 10, 2]\n",
        "print(data[::-1])"
      ],
      "metadata": {
        "colab": {
          "base_uri": "https://localhost:8080/"
        },
        "id": "LuMV79io1bua",
        "outputId": "3838da4a-bcf8-4b65-862f-ca954139c197"
      },
      "execution_count": 55,
      "outputs": [
        {
          "output_type": "stream",
          "name": "stdout",
          "text": [
            "[2, 10, 6, 1, 8, 3]\n"
          ]
        }
      ]
    },
    {
      "cell_type": "code",
      "source": [
        "nums = [2, 4, 6, 8,99]\n",
        "for n in nums:\n",
        "    print(f\"Square of {n} is {n**2}\")\n"
      ],
      "metadata": {
        "colab": {
          "base_uri": "https://localhost:8080/"
        },
        "id": "2Z6mIHy41hGw",
        "outputId": "d763931f-bc0e-464f-c595-d2e787d34c75"
      },
      "execution_count": 57,
      "outputs": [
        {
          "output_type": "stream",
          "name": "stdout",
          "text": [
            "Square of 2 is 4\n",
            "Square of 4 is 16\n",
            "Square of 6 is 36\n",
            "Square of 8 is 64\n",
            "Square of 99 is 9801\n"
          ]
        }
      ]
    },
    {
      "cell_type": "code",
      "source": [
        "num =[2,4,6,4,7,9,99]\n",
        "for x in num:\n",
        "  print(f\"Cube of {x} is {x**3}\")"
      ],
      "metadata": {
        "colab": {
          "base_uri": "https://localhost:8080/"
        },
        "id": "5WTHdalH11uO",
        "outputId": "2e3e8386-c0ee-4207-d7cf-081bf31a9d73"
      },
      "execution_count": 58,
      "outputs": [
        {
          "output_type": "stream",
          "name": "stdout",
          "text": [
            "Cube of 2 is 8\n",
            "Cube of 4 is 64\n",
            "Cube of 6 is 216\n",
            "Cube of 4 is 64\n",
            "Cube of 7 is 343\n",
            "Cube of 9 is 729\n",
            "Cube of 99 is 970299\n"
          ]
        }
      ]
    },
    {
      "cell_type": "code",
      "source": [],
      "metadata": {
        "id": "MO5E9Tnx2O9Y"
      },
      "execution_count": null,
      "outputs": []
    }
  ]
}