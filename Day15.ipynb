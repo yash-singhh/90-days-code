{
 "cells": [
  {
   "cell_type": "code",
   "execution_count": 1,
   "id": "fcdb4043",
   "metadata": {},
   "outputs": [
    {
     "name": "stdout",
     "output_type": "stream",
     "text": [
      "yash\n"
     ]
    }
   ],
   "source": [
    "print(\"yash\")"
   ]
  },
  {
   "cell_type": "code",
   "execution_count": null,
   "id": "18a3da78",
   "metadata": {},
   "outputs": [],
   "source": [
    "def greet():\n",
    "    print(\"hello\")\n",
    "\n",
    "print(greet)"
   ]
  },
  {
   "cell_type": "code",
   "execution_count": null,
   "id": "f7327eaf",
   "metadata": {},
   "outputs": [],
   "source": [
    "def add(a,b):\n",
    "    return a+b"
   ]
  },
  {
   "cell_type": "code",
   "execution_count": null,
   "id": "a7c34b94",
   "metadata": {},
   "outputs": [],
   "source": [
    "result =add(10,5)\n",
    "peint(result)"
   ]
  },
  {
   "cell_type": "markdown",
   "id": "a60d74e5",
   "metadata": {},
   "source": [
    "Default & Keyword Arguments\n"
   ]
  },
  {
   "cell_type": "code",
   "execution_count": null,
   "metadata": {},
   "outputs": [],
   "source": [
    "def greet(name=\"champ!\"):\n",
    "    print(\"hello\",name)"
   ]
  }
 ],
 "metadata": {
  "kernelspec": {
   "display_name": "Python 3",
   "language": "python",
   "name": "python3"
  },
  "language_info": {
   "codemirror_mode": {
    "name": "ipython",
    "version": 3
   },
   "file_extension": ".py",
   "mimetype": "text/x-python",
   "name": "python",
   "nbconvert_exporter": "python",
   "pygments_lexer": "ipython3",
   "version": "3.10.9"
  }
 },
 "nbformat": 4,
 "nbformat_minor": 5
}
