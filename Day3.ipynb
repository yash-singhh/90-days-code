{
 "cells": [
  {
   "cell_type": "markdown",
   "id": "52ce726f",
   "metadata": {},
   "source": [
    "Python has built-in string validation methods for basic data. It can check if a string is composed of alphabetical characters, alphanumeric characters, digits, etc.\n",
    "\n",
    "str.isalnum()"
   ]
  },
  {
   "cell_type": "code",
   "execution_count": 27,
   "id": "2cec42eb",
   "metadata": {},
   "outputs": [
    {
     "name": "stdout",
     "output_type": "stream",
     "text": [
      "True\n",
      "True\n",
      "False\n",
      "True\n",
      "False\n"
     ]
    }
   ],
   "source": [
    "if __name__ == '__main__':\n",
    "    s = input()\n",
    "    print(any(i.isalnum() for i in s) )\n",
    "    print(any(i.isalpha() for i in s) )\n",
    "    print(any(i.isdigit() for i in s) )\n",
    "    print(any(i.islower() for i in s) )\n",
    "    print(any(i.isupper() for i in s) )"
   ]
  },
  {
   "cell_type": "code",
   "execution_count": null,
   "id": "e4b8de92",
   "metadata": {},
   "outputs": [],
   "source": []
  },
  {
   "cell_type": "markdown",
   "id": "39f727ad",
   "metadata": {},
   "source": [
    "basic python\n"
   ]
  },
  {
   "cell_type": "code",
   "execution_count": 3,
   "id": "38aac687",
   "metadata": {},
   "outputs": [
    {
     "name": "stdout",
     "output_type": "stream",
     "text": [
      "50\n",
      "-10\n",
      "20\n"
     ]
    }
   ],
   "source": [
    "a= 20\n",
    "b= 30\n",
    "print(a+b)\n",
    "print(a-b)\n",
    "c = a %b\n",
    "print(c)"
   ]
  },
  {
   "cell_type": "code",
   "execution_count": 6,
   "id": "2e7892b5",
   "metadata": {},
   "outputs": [
    {
     "name": "stdout",
     "output_type": "stream",
     "text": [
      "mango\n",
      "banana\n"
     ]
    }
   ],
   "source": [
    "a= [\"apple\", \"mango\", \"banana\"]\n",
    "print(a[1])\n",
    "print(a[-1])"
   ]
  },
  {
   "cell_type": "code",
   "execution_count": 9,
   "id": "19b1d46e",
   "metadata": {},
   "outputs": [
    {
     "ename": "KeyError",
     "evalue": "'mango'",
     "output_type": "error",
     "traceback": [
      "\u001b[31m---------------------------------------------------------------------------\u001b[39m",
      "\u001b[31mKeyError\u001b[39m                                  Traceback (most recent call last)",
      "\u001b[36mCell\u001b[39m\u001b[36m \u001b[39m\u001b[32mIn[9]\u001b[39m\u001b[32m, line 8\u001b[39m\n\u001b[32m      1\u001b[39m a={\n\u001b[32m      2\u001b[39m     \u001b[32m1\u001b[39m:\u001b[33m\"\u001b[39m\u001b[33mapple\u001b[39m\u001b[33m\"\u001b[39m,\n\u001b[32m      3\u001b[39m     \u001b[32m2\u001b[39m:\u001b[33m\"\u001b[39m\u001b[33mbanana\u001b[39m\u001b[33m\"\u001b[39m,\n\u001b[32m      4\u001b[39m     \u001b[32m3\u001b[39m:\u001b[33m\"\u001b[39m\u001b[33mmango\u001b[39m\u001b[33m\"\u001b[39m\n\u001b[32m      5\u001b[39m \n\u001b[32m      6\u001b[39m }\n\u001b[32m----> \u001b[39m\u001b[32m8\u001b[39m \u001b[38;5;28mprint\u001b[39m(\u001b[43ma\u001b[49m\u001b[43m[\u001b[49m\u001b[33;43m\"\u001b[39;49m\u001b[33;43mmango\u001b[39;49m\u001b[33;43m\"\u001b[39;49m\u001b[43m]\u001b[49m)\n\u001b[32m      9\u001b[39m \u001b[38;5;28mprint\u001b[39m(a[\u001b[32m1\u001b[39m])\n",
      "\u001b[31mKeyError\u001b[39m: 'mango'"
     ]
    }
   ],
   "source": [
    "a={\n",
    "    1:\"apple\",\n",
    "    2:\"banana\",\n",
    "    3:\"mango\"\n",
    "\n",
    "}\n",
    "\n",
    "print(a[\"mango\"])\n",
    "print(a[1])"
   ]
  },
  {
   "cell_type": "code",
   "execution_count": 15,
   "id": "dc8acee6",
   "metadata": {},
   "outputs": [
    {
     "name": "stdout",
     "output_type": "stream",
     "text": [
      "adult\n"
     ]
    }
   ],
   "source": [
    "age = int(input())\n",
    "if age > 18:\n",
    "    print(\"adult\")\n",
    "else:\n",
    "    print(\"not adult\")"
   ]
  },
  {
   "cell_type": "code",
   "execution_count": 14,
   "id": "582ae852",
   "metadata": {},
   "outputs": [
    {
     "name": "stdout",
     "output_type": "stream",
     "text": [
      "Adult\n"
     ]
    }
   ],
   "source": [
    "age = 20\n",
    "\n",
    "if age > 18:\n",
    "    print(\"Adult\")\n",
    "elif age == 18:\n",
    "    print(\"Just became adult\")\n",
    "else:\n",
    "    print(\"Minor\")\n"
   ]
  },
  {
   "cell_type": "code",
   "execution_count": 17,
   "id": "57b270a9",
   "metadata": {},
   "outputs": [
    {
     "name": "stdout",
     "output_type": "stream",
     "text": [
      "0\n",
      "1\n",
      "2\n",
      "3\n",
      "4\n",
      "0\n",
      "1\n",
      "2\n",
      "3\n",
      "4\n"
     ]
    }
   ],
   "source": [
    "for i in range(5):\n",
    "    print(i)\n",
    "\n",
    "count =0\n",
    "while count < 5:\n",
    "    print(count)\n",
    "    count += 1    "
   ]
  },
  {
   "cell_type": "code",
   "execution_count": 19,
   "id": "b6e9b04c",
   "metadata": {},
   "outputs": [
    {
     "name": "stdout",
     "output_type": "stream",
     "text": [
      "0\n",
      "1\n",
      "2\n",
      "3\n",
      "4\n",
      "5\n",
      "6\n"
     ]
    }
   ],
   "source": [
    "for i in range(10):\n",
    "    if i == 7:\n",
    "        break\n",
    "    print(i)"
   ]
  },
  {
   "cell_type": "code",
   "execution_count": 21,
   "id": "4ec00f71",
   "metadata": {},
   "outputs": [
    {
     "name": "stdout",
     "output_type": "stream",
     "text": [
      "hey,Champ!\n"
     ]
    }
   ],
   "source": [
    "def greet (name):\n",
    "    return f'hey,{name}!'\n",
    "\n",
    "print(greet(\"Champ\"))    "
   ]
  },
  {
   "cell_type": "code",
   "execution_count": 24,
   "id": "d82ad1c7",
   "metadata": {},
   "outputs": [
    {
     "name": "stdout",
     "output_type": "stream",
     "text": [
      "cherry\n",
      "3\n",
      "['apple', 'cherry', 'orange']\n"
     ]
    }
   ],
   "source": [
    "fruits = [\"apple\", \"banana\", \"cherry\"]\n",
    "fruits.append(\"orange\")\n",
    "fruits.remove(\"banana\")\n",
    "print(fruits[1])         # banana\n",
    "print(len(fruits))\n",
    "print(fruits)\n"
   ]
  },
  {
   "cell_type": "code",
   "execution_count": 28,
   "id": "4225ab38",
   "metadata": {},
   "outputs": [
    {
     "name": "stdout",
     "output_type": "stream",
     "text": [
      "John\n"
     ]
    }
   ],
   "source": [
    "student = {\"name\": \"John\", \n",
    "           \"age\": 22, \n",
    "           \"grade\": \"A\"}\n",
    "print(student[\"name\"])\n",
    "student[\"age\"] = 23\n"
   ]
  },
  {
   "cell_type": "code",
   "execution_count": 31,
   "id": "2e9513d3",
   "metadata": {},
   "outputs": [
    {
     "name": "stdout",
     "output_type": "stream",
     "text": [
      "10\n",
      "{1, 2, 3, 4, 5, 6}\n"
     ]
    }
   ],
   "source": [
    "coordinate =(10,20)\n",
    "\n",
    "print(coordinate[0])\n",
    "\n",
    "unique_numbers = {1, 2, 3, 4, 5}\n",
    "unique_numbers.add(6)\n",
    "print(unique_numbers)"
   ]
  },
  {
   "cell_type": "code",
   "execution_count": 32,
   "id": "14d2eab3",
   "metadata": {},
   "outputs": [
    {
     "name": "stdout",
     "output_type": "stream",
     "text": [
      "Hello, my name isYash Champ\n"
     ]
    }
   ],
   "source": [
    "class Person:\n",
    "    def __init__(self,name):\n",
    "        self.name = name\n",
    "\n",
    "    def greet(self):\n",
    "        print(f\"Hello, my name is{self.name}\") \n",
    "\n",
    "p1= Person(\"Yash Champ\")\n",
    "p1.greet()           "
   ]
  },
  {
   "cell_type": "code",
   "execution_count": null,
   "id": "f5afe602",
   "metadata": {},
   "outputs": [],
   "source": []
  }
 ],
 "metadata": {
  "kernelspec": {
   "display_name": ".venv",
   "language": "python",
   "name": "python3"
  },
  "language_info": {
   "codemirror_mode": {
    "name": "ipython",
    "version": 3
   },
   "file_extension": ".py",
   "mimetype": "text/x-python",
   "name": "python",
   "nbconvert_exporter": "python",
   "pygments_lexer": "ipython3",
   "version": "3.11.4"
  }
 },
 "nbformat": 4,
 "nbformat_minor": 5
}
