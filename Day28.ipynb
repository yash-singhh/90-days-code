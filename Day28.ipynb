{
  "nbformat": 4,
  "nbformat_minor": 0,
  "metadata": {
    "colab": {
      "provenance": []
    },
    "kernelspec": {
      "name": "python3",
      "display_name": "Python 3"
    },
    "language_info": {
      "name": "python"
    }
  },
  "cells": [
    {
      "cell_type": "code",
      "execution_count": 2,
      "metadata": {
        "colab": {
          "base_uri": "https://localhost:8080/"
        },
        "id": "B3uTnI3yHz35",
        "outputId": "6499af96-fc58-4e41-bab2-a81409f12eec"
      },
      "outputs": [
        {
          "output_type": "stream",
          "name": "stdout",
          "text": [
            "welcome to day 28! lets do some probelrm on |\n"
          ]
        }
      ],
      "source": [
        "print(\"welcome to day 28! lets do some probelrm on |\")"
      ]
    },
    {
      "cell_type": "code",
      "source": [
        "def count_vowels(s):\n",
        "  vowels = \"aeiouAEIOU\"\n",
        "  count =0\n",
        "  for char in s:\n",
        "    if char in vowels:\n",
        "      count +=1\n",
        "  return count\n",
        "\n",
        "print(count_vowels(\"come on my BOY smile\"))"
      ],
      "metadata": {
        "colab": {
          "base_uri": "https://localhost:8080/"
        },
        "id": "NnZYxmApH5Vs",
        "outputId": "ade7fb16-8d87-4246-d379-1e3982053aa6"
      },
      "execution_count": 6,
      "outputs": [
        {
          "output_type": "stream",
          "name": "stdout",
          "text": [
            "6\n"
          ]
        }
      ]
    },
    {
      "cell_type": "code",
      "source": [
        "def uppercase(s):\n",
        "  return s.upper()\n",
        "\n",
        "print(uppercase(\"come on my BOY smile\"))"
      ],
      "metadata": {
        "colab": {
          "base_uri": "https://localhost:8080/"
        },
        "id": "LDyrhgIbIhv7",
        "outputId": "815dbe50-2645-4dc9-8f59-e3569dbbc5a8"
      },
      "execution_count": 7,
      "outputs": [
        {
          "output_type": "stream",
          "name": "stdout",
          "text": [
            "COME ON MY BOY SMILE\n"
          ]
        }
      ]
    },
    {
      "cell_type": "code",
      "source": [
        "def string_length(s):\n",
        "  return len(s)\n",
        "\n",
        "\n",
        "print(string_length(\"come on my BOY smile\"))"
      ],
      "metadata": {
        "colab": {
          "base_uri": "https://localhost:8080/"
        },
        "id": "DvVxlWDlI2QU",
        "outputId": "89d472c7-9fe9-4224-fd18-02767ad288cd"
      },
      "execution_count": 9,
      "outputs": [
        {
          "output_type": "stream",
          "name": "stdout",
          "text": [
            "20\n"
          ]
        }
      ]
    },
    {
      "cell_type": "code",
      "source": [
        "def is_palindrome(s):\n",
        "  return s == s[::-1]\n",
        "\n",
        "print(is_palindrome(\"come on my BOY smile\"))\n",
        "print(is_palindrome(\"madam o madam\"))"
      ],
      "metadata": {
        "colab": {
          "base_uri": "https://localhost:8080/"
        },
        "id": "uITkFDmrJMb7",
        "outputId": "832761db-cd9f-4ac6-e919-0847f61f420e"
      },
      "execution_count": 12,
      "outputs": [
        {
          "output_type": "stream",
          "name": "stdout",
          "text": [
            "False\n",
            "True\n"
          ]
        }
      ]
    },
    {
      "cell_type": "code",
      "source": [
        "# prompt: count the no of character in a string\n",
        "\n",
        "# Function to count the number of characters in a string\n",
        "def count_characters(s):\n",
        "  return len(s)\n",
        "\n",
        "# Example usage:\n",
        "my_string = \"This is a sample string.\"\n",
        "character_count = count_characters(my_string)\n",
        "print(f\"The number of characters in the string is: {character_count}\")\n"
      ],
      "metadata": {
        "colab": {
          "base_uri": "https://localhost:8080/"
        },
        "id": "RTGWZyxlJxYd",
        "outputId": "4ae9d925-ef91-4461-cdcf-011022bb8c30"
      },
      "execution_count": 13,
      "outputs": [
        {
          "output_type": "stream",
          "name": "stdout",
          "text": [
            "The number of characters in the string is: 24\n"
          ]
        }
      ]
    },
    {
      "cell_type": "code",
      "source": [
        "# prompt: count the no of character in a string, dont use function\n",
        "\n",
        "s = \"print(\\\"welcome to day 28\\n\"\n",
        "count = 0\n",
        "for char in s:\n",
        "  count += 1\n",
        "count\n",
        "\n",
        "print(len(s))"
      ],
      "metadata": {
        "colab": {
          "base_uri": "https://localhost:8080/"
        },
        "id": "bpR-DQp1KdU8",
        "outputId": "30c6c289-aabd-4d98-e369-6e199ff9f47a"
      },
      "execution_count": 15,
      "outputs": [
        {
          "output_type": "stream",
          "name": "stdout",
          "text": [
            "25\n"
          ]
        }
      ]
    },
    {
      "cell_type": "code",
      "source": [
        "def concatenate_strings(s1, s2):\n",
        "    return s1 + s2\n",
        "\n",
        "print(concatenate_strings(\"Hello, \", \"World!\"))  # Output: \"Hello, World!\"\n"
      ],
      "metadata": {
        "colab": {
          "base_uri": "https://localhost:8080/"
        },
        "id": "aX49R-27KrzB",
        "outputId": "46339cc0-ea29-4f99-c7cc-fd583d505854"
      },
      "execution_count": 18,
      "outputs": [
        {
          "output_type": "stream",
          "name": "stdout",
          "text": [
            "Hello, World!\n"
          ]
        }
      ]
    },
    {
      "cell_type": "code",
      "source": [],
      "metadata": {
        "id": "nHkc_csUK5P1"
      },
      "execution_count": null,
      "outputs": []
    }
  ]
}