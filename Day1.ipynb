{
 "cells": [
  {
   "cell_type": "code",
   "execution_count": null,
   "id": "e59791b8",
   "metadata": {},
   "outputs": [],
   "source": [
    "print(\"welcome champ\")"
   ]
  },
  {
   "cell_type": "markdown",
   "id": "2bcfac13",
   "metadata": {},
   "source": [
    "You are given a string and your task is to swap cases. In other words, convert all lowercase letters to uppercase letters and vice versa.\n"
   ]
  },
  {
   "cell_type": "code",
   "execution_count": 4,
   "id": "2fb1ccc7",
   "metadata": {},
   "outputs": [
    {
     "name": "stdout",
     "output_type": "stream",
     "text": [
      "cARTooN cHAMP\n"
     ]
    }
   ],
   "source": [
    "def saw_case(s):\n",
    "    return s.swapcase()\n",
    "\n",
    "a = input(\"enter a string\")\n",
    "result=saw_case(a)\n",
    "print(result)"
   ]
  },
  {
   "cell_type": "code",
   "execution_count": null,
   "id": "e52b731f",
   "metadata": {},
   "outputs": [],
   "source": []
  },
  {
   "cell_type": "markdown",
   "id": "40caeb0b",
   "metadata": {},
   "source": [
    "In Python, a string can be split on a delimiter.\n",
    "\n",
    "Example:\n",
    "\n",
    ">>> a = \"this is a string\"\n",
    ">>> a = a.split(\" \") # a is converted to a list of strings. \n",
    ">>> print a\n",
    "['this', 'is', 'a', 'string']\n"
   ]
  },
  {
   "cell_type": "code",
   "execution_count": 6,
   "id": "e63b6411",
   "metadata": {},
   "outputs": [
    {
     "name": "stdout",
     "output_type": "stream",
     "text": [
      "cartoon-is-smart\n"
     ]
    }
   ],
   "source": [
    "def split_and_join(line):\n",
    "    return \"-\".join(line.split())\n",
    "\n",
    "line=input(\"enter a string\")\n",
    "result= split_and_join(line)\n",
    "print(result)"
   ]
  },
  {
   "cell_type": "code",
   "execution_count": 7,
   "id": "fa0184e5",
   "metadata": {},
   "outputs": [
    {
     "name": "stdout",
     "output_type": "stream",
     "text": [
      "lets-go-champ\n"
     ]
    }
   ],
   "source": [
    "if __name__ == '__main__':\n",
    "    line = input()\n",
    "    line = line.split()\n",
    "    result = \"-\".join(line)\n",
    "    print(result)\n"
   ]
  },
  {
   "cell_type": "code",
   "execution_count": null,
   "id": "77ea0078",
   "metadata": {},
   "outputs": [],
   "source": [
    "def split_and_join(line):\n",
    "    #my code\n",
    "    a= line.split(\" \")\n",
    "    b= \"-\".join(a)\n",
    "    return(b)\n",
    "    # return \"_\".join(line.split())\n",
    "\n",
    "if __name__ == '__main__':\n",
    "    line = input()\n",
    "    result = split_and_join(line)\n",
    "    print(result)"
   ]
  }
 ],
 "metadata": {
  "kernelspec": {
   "display_name": ".venv",
   "language": "python",
   "name": "python3"
  },
  "language_info": {
   "codemirror_mode": {
    "name": "ipython",
    "version": 3
   },
   "file_extension": ".py",
   "mimetype": "text/x-python",
   "name": "python",
   "nbconvert_exporter": "python",
   "pygments_lexer": "ipython3",
   "version": "3.11.4"
  }
 },
 "nbformat": 4,
 "nbformat_minor": 5
}
