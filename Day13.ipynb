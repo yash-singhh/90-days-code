{
 "cells": [
  {
   "cell_type": "code",
   "execution_count": 1,
   "id": "657115b1",
   "metadata": {},
   "outputs": [
    {
     "name": "stdout",
     "output_type": "stream",
     "text": [
      "lets go champ\n"
     ]
    }
   ],
   "source": [
    "print(\"lets go champ\")"
   ]
  },
  {
   "cell_type": "code",
   "execution_count": 4,
   "metadata": {},
   "outputs": [
    {
     "name": "stdout",
     "output_type": "stream",
     "text": [
      "0\n",
      "2\n",
      "4\n",
      "6\n",
      "8\n",
      "10\n",
      "12\n",
      "14\n",
      "16\n",
      "18\n"
     ]
    }
   ],
   "source": [
    "evens = []\n",
    "for x in range(20):\n",
    "    if x % 2 == 0:\n",
    "        evens.append(x)\n",
    "        print(x)"
   ]
  },
  {
   "cell_type": "code",
   "execution_count": 6,
   "metadata": {},
   "outputs": [
    {
     "name": "stdout",
     "output_type": "stream",
     "text": [
      "[1, 27, 125, 343, 729, 1331, 2197, 3375, 4913, 6859]\n"
     ]
    }
   ],
   "source": [
    "odd_cubes = [x**3 for x in range(1, 20) if x % 2 != 0]\n",
    "print(odd_cubes)"
   ]
  },
  {
   "cell_type": "code",
   "execution_count": 8,
   "id": "09bcf4e0",
   "metadata": {},
   "outputs": [
    {
     "name": "stdout",
     "output_type": "stream",
     "text": [
      "1\n",
      "3\n",
      "5\n",
      "7\n",
      "9\n",
      "11\n",
      "13\n",
      "15\n",
      "17\n",
      "19\n"
     ]
    }
   ],
   "source": [
    "odd_cubes = []\n",
    "for x in range(1, 20):\n",
    "    if x % 2 != 0:\n",
    "        odd_cubes.append(x**3)\n",
    "        print(x)"
   ]
  },
  {
   "cell_type": "code",
   "execution_count": 17,
   "id": "bc236dbb",
   "metadata": {},
   "outputs": [
    {
     "name": "stdout",
     "output_type": "stream",
     "text": [
      "[1, 3, 45, 9, 0]\n"
     ]
    }
   ],
   "source": [
    "#  Filter Positive Numbers\n",
    "positive=[]\n",
    "for x in [1,3,45,-12,-11,-199,9,0]: \n",
    "    if x>=0:\n",
    "        positive.append(x)\n",
    "print(positive)"
   ]
  },
  {
   "cell_type": "code",
   "execution_count": 8,
   "id": "eb9318a1",
   "metadata": {},
   "outputs": [
    {
     "name": "stdout",
     "output_type": "stream",
     "text": [
      "[1, 44, 5, 5]\n"
     ]
    }
   ],
   "source": [
    "positive=[x for x in[1,44,5,-5,5,-99,0]if x>0]\n",
    "print(positive)"
   ]
  },
  {
   "cell_type": "code",
   "execution_count": 15,
   "id": "390d515b",
   "metadata": {},
   "outputs": [
    {
     "name": "stdout",
     "output_type": "stream",
     "text": [
      "[0, 4, 16, 36, 64]\n"
     ]
    }
   ],
   "source": [
    "#square of even no\n",
    "even_sqr = []\n",
    "for x in range(10):\n",
    "    if x %2==0:\n",
    "        even_sqr.append(x**2)\n",
    "print(even_sqr)"
   ]
  },
  {
   "cell_type": "code",
   "execution_count": 18,
   "id": "90c7bfc1",
   "metadata": {},
   "outputs": [
    {
     "name": "stdout",
     "output_type": "stream",
     "text": [
      "[0, 4, 16, 36, 64]\n"
     ]
    }
   ],
   "source": [
    "even_squares = [x**2 for x in range(10) if x % 2 == 0]\n",
    "print(even_squares)"
   ]
  },
  {
   "cell_type": "code",
   "execution_count": 25,
   "id": "693d7ddc",
   "metadata": {},
   "outputs": [
    {
     "name": "stdout",
     "output_type": "stream",
     "text": [
      "[3, 3, 9, 5]\n"
     ]
    }
   ],
   "source": [
    "length = []\n",
    "for x in ['dog','cat','elephatnt','tiger']:\n",
    "    length.append(len(x))\n",
    "\n",
    "print(length)   "
   ]
  },
  {
   "cell_type": "code",
   "execution_count": 27,
   "id": "3767e907",
   "metadata": {},
   "outputs": [
    {
     "name": "stdout",
     "output_type": "stream",
     "text": [
      "[3, 6, 8]\n"
     ]
    }
   ],
   "source": [
    "length=[len(word) for word in ['ant','monkey','elephant']]\n",
    "print(length)"
   ]
  },
  {
   "cell_type": "code",
   "execution_count": null,
   "id": "d10fd74c",
   "metadata": {},
   "outputs": [],
   "source": []
  },
  {
   "cell_type": "markdown",
   "id": "b08ef984",
   "metadata": {},
   "source": [
    " Filter and Multiply"
   ]
  },
  {
   "cell_type": "code",
   "execution_count": 33,
   "id": "c4567a76",
   "metadata": {},
   "outputs": [
    {
     "name": "stdout",
     "output_type": "stream",
     "text": [
      "[0, 50]\n"
     ]
    }
   ],
   "source": [
    "filtered =[]\n",
    "for x in range(10):\n",
    "    if x%5 ==0:\n",
    "        filtered.append(x*10)\n",
    "print(filtered)        "
   ]
  },
  {
   "cell_type": "code",
   "execution_count": 35,
   "id": "440ba1d9",
   "metadata": {},
   "outputs": [
    {
     "name": "stdout",
     "output_type": "stream",
     "text": [
      "[0, 90, 180, 270]\n"
     ]
    }
   ],
   "source": [
    "filtered =[]\n",
    "for x in range(10):\n",
    "    if x%3 ==0:\n",
    "        filtered.append(x*30)\n",
    "print(filtered) "
   ]
  },
  {
   "cell_type": "code",
   "execution_count": null,
   "id": "6a931dd1",
   "metadata": {},
   "outputs": [],
   "source": []
  }
 ],
 "metadata": {
  "kernelspec": {
   "display_name": "Python 3",
   "language": "python",
   "name": "python3"
  },
  "language_info": {
   "codemirror_mode": {
    "name": "ipython",
    "version": 3
   },
   "file_extension": ".py",
   "mimetype": "text/x-python",
   "name": "python",
   "nbconvert_exporter": "python",
   "pygments_lexer": "ipython3",
   "version": "3.12.5"
  }
 },
 "nbformat": 4,
 "nbformat_minor": 5
}
