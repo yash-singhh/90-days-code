{
 "cells": [
  {
   "cell_type": "code",
   "execution_count": null,
   "id": "aad36c23",
   "metadata": {},
   "outputs": [],
   "source": [
    "import openai\n",
    "import getpass\n",
    "\n",
    "# Securely input your OpenAI API key\n",
    "openai.api_key = getpass.getpass(\"Enter your OpenAI API key:\")\n",
    "\n",
    "def chat_with_ai():\n",
    "    conversation_history = []\n",
    "    print(\"🔹 Chat with your AI bot (type 'exit' to stop)\\n\")\n",
    "\n",
    "    while True:\n",
    "        user_input = input(\"You: \")\n",
    "\n",
    "        if user_input.lower().strip() == \"exit\":\n",
    "            print(\"Chat ended.\")\n",
    "            break\n",
    "\n",
    "        conversation_history.append({\"role\": \"user\", \"content\": user_input})\n",
    "\n",
    "        try:\n",
    "            response = openai.chat.completions.create(\n",
    "                model=\"gpt-3.5-turbo\",\n",
    "                messages=conversation_history,\n",
    "                temperature=0.7\n",
    "            )\n",
    "\n",
    "            ai_reply = response.choices[0].message.content\n",
    "            print(f\"AI: {ai_reply}\\n\")\n",
    "\n",
    "            conversation_history.append({\"role\": \"assistant\", \"content\": ai_reply})\n",
    "\n",
    "        except Exception as e:\n",
    "            print(f\"Error: {e}\")\n",
    "            break\n",
    "\n",
    "# Run chat\n",
    "chat_with_ai()\n"
   ]
  },
  {
   "cell_type": "code",
   "execution_count": null,
   "id": "4a615b3a",
   "metadata": {},
   "outputs": [],
   "source": []
  },
  {
   "cell_type": "code",
   "execution_count": null,
   "metadata": {},
   "outputs": [],
   "source": []
  }
 ],
 "metadata": {
  "kernelspec": {
   "display_name": ".venv",
   "language": "python",
   "name": "python3"
  },
  "language_info": {
   "name": "python",
   "version": "3.11.4"
  }
 },
 "nbformat": 4,
 "nbformat_minor": 5
}
