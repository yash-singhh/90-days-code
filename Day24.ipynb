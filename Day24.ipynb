{
  "nbformat": 4,
  "nbformat_minor": 0,
  "metadata": {
    "colab": {
      "provenance": []
    },
    "kernelspec": {
      "name": "python3",
      "display_name": "Python 3"
    },
    "language_info": {
      "name": "python"
    }
  },
  "cells": [
    {
      "cell_type": "code",
      "execution_count": 13,
      "metadata": {
        "colab": {
          "base_uri": "https://localhost:8080/"
        },
        "id": "LPzeLr00SLaA",
        "outputId": "a3ba3df6-e365-4546-a791-43602cd78fab"
      },
      "outputs": [
        {
          "output_type": "stream",
          "name": "stdout",
          "text": [
            "welcome to day 24, Question on Graph  n arrey\n"
          ]
        }
      ],
      "source": [
        "print(\"welcome to day 24, Question on Graph  n arrey\")"
      ]
    },
    {
      "cell_type": "code",
      "source": [
        "#binary trees\n",
        "def is_balanced(root):\n",
        "    def check(node):\n",
        "        if not node: return 0\n",
        "        left = check(node.left)\n",
        "        right = check(node.right)\n",
        "        if left == -1 or right == -1 or abs(left - right) > 1:\n",
        "            return -1\n",
        "        return max(left, right) + 1\n",
        "    return check(root) != -1\n"
      ],
      "metadata": {
        "id": "VgrQLvp5aj_N"
      },
      "execution_count": 15,
      "outputs": []
    },
    {
      "cell_type": "code",
      "source": [
        "def is_valid_bst(root, min_val=float('-inf'), max_val=float('inf')):\n",
        "    if not root: return True\n",
        "    if not (min_val < root.val < max_val):\n",
        "        return False\n",
        "    return (is_valid_bst(root.left, min_val, root.val) and\n",
        "            is_valid_bst(root.right, root.val, max_val))\n"
      ],
      "metadata": {
        "id": "yWj0Fw5taj3-"
      },
      "execution_count": 12,
      "outputs": []
    },
    {
      "cell_type": "code",
      "source": [
        "def lca_bst(root, p, q):\n",
        "    while root:\n",
        "        if root.val > p.val and root.val > q.val:\n",
        "            root = root.left\n",
        "        elif root.val < p.val and root.val < q.val:\n",
        "            root = root.right\n",
        "        else:\n",
        "            return root\n"
      ],
      "metadata": {
        "id": "wXV_7XVnajyY"
      },
      "execution_count": 16,
      "outputs": []
    },
    {
      "cell_type": "code",
      "source": [
        "class TrieNode:\n",
        "    def __init__(self):\n",
        "        self.children = {}\n",
        "        self.is_end = False\n",
        "\n",
        "class Trie:\n",
        "    def __init__(self):\n",
        "        self.root = TrieNode()\n",
        "\n",
        "    def insert(self, word):\n",
        "        node = self.root\n",
        "        for char in word:\n",
        "            if char not in node.children:\n",
        "                node.children[char] = TrieNode()\n",
        "            node = node.children[char]\n",
        "        node.is_end = True\n"
      ],
      "metadata": {
        "id": "-A_WArr-bLfs"
      },
      "execution_count": 17,
      "outputs": []
    },
    {
      "cell_type": "code",
      "source": [
        "my_numbers = [25, 50, 75, 100]\n",
        "print(my_numbers[0])\n",
        "my_numbers[0] = 99\n",
        "print(my_numbers)\n"
      ],
      "metadata": {
        "colab": {
          "base_uri": "https://localhost:8080/"
        },
        "id": "2gZ3NqIUSUr0",
        "outputId": "3f49e926-9c02-4c24-819b-51b60d8e77ec"
      },
      "execution_count": 2,
      "outputs": [
        {
          "output_type": "stream",
          "name": "stdout",
          "text": [
            "25\n",
            "[99, 50, 75, 100]\n"
          ]
        }
      ]
    },
    {
      "cell_type": "code",
      "source": [
        "my_numbers = [25, 50, 75, 100]\n",
        "for num in my_numbers:\n",
        "    print(num)\n"
      ],
      "metadata": {
        "colab": {
          "base_uri": "https://localhost:8080/"
        },
        "id": "9OEGLaJYaMKu",
        "outputId": "c40ab4a7-f6f8-443b-9bdb-60724c95c057"
      },
      "execution_count": 3,
      "outputs": [
        {
          "output_type": "stream",
          "name": "stdout",
          "text": [
            "25\n",
            "50\n",
            "75\n",
            "100\n"
          ]
        }
      ]
    },
    {
      "cell_type": "code",
      "source": [
        "# Input: 5 numbers separated by space\n",
        "values = list(map(int, input(\"Enter 5 integers separated by space: \").split()))\n",
        "print(\"Displaying integers:\")\n",
        "for val in values:\n",
        "    print(val)\n"
      ],
      "metadata": {
        "colab": {
          "base_uri": "https://localhost:8080/"
        },
        "id": "-O3iOSfyaOM2",
        "outputId": "ba11ca03-ef0a-4f0b-afdc-cba13234ca8a"
      },
      "execution_count": 6,
      "outputs": [
        {
          "output_type": "stream",
          "name": "stdout",
          "text": [
            "Enter 5 integers separated by space: 2 3 4 53 33 \n",
            "Displaying integers:\n",
            "2\n",
            "3\n",
            "4\n",
            "53\n",
            "33\n"
          ]
        }
      ]
    },
    {
      "cell_type": "code",
      "source": [
        "my_numbers = [10, 20, 30, 40]\n",
        "print(len(my_numbers))\n"
      ],
      "metadata": {
        "colab": {
          "base_uri": "https://localhost:8080/"
        },
        "id": "oFVKJMcxaP4F",
        "outputId": "d417e437-9310-45ff-9d83-fd9beefc08d1"
      },
      "execution_count": 7,
      "outputs": [
        {
          "output_type": "stream",
          "name": "stdout",
          "text": [
            "4\n"
          ]
        }
      ]
    },
    {
      "cell_type": "code",
      "source": [
        "arr = [10, 5, 8, 22, 7]\n",
        "print(\"Maximum element:\", max(arr))\n"
      ],
      "metadata": {
        "colab": {
          "base_uri": "https://localhost:8080/"
        },
        "id": "EiHTxqbLaZkX",
        "outputId": "97214fdf-c26a-4972-ed99-592c54496767"
      },
      "execution_count": 8,
      "outputs": [
        {
          "output_type": "stream",
          "name": "stdout",
          "text": [
            "Maximum element: 22\n"
          ]
        }
      ]
    },
    {
      "cell_type": "code",
      "source": [
        "arr = [1, 2, 2, 3, 4, 4, 5]\n",
        "unique_arr = list(set(arr))\n",
        "print(\"Array without duplicates:\", unique_arr)\n"
      ],
      "metadata": {
        "colab": {
          "base_uri": "https://localhost:8080/"
        },
        "id": "4dt_zA-oab8Q",
        "outputId": "1069fec4-f1fb-4b12-e980-056769d7a447"
      },
      "execution_count": 9,
      "outputs": [
        {
          "output_type": "stream",
          "name": "stdout",
          "text": [
            "Array without duplicates: [1, 2, 3, 4, 5]\n"
          ]
        }
      ]
    },
    {
      "cell_type": "code",
      "source": [
        "arr = [10, 20, 30, 40, 50]\n",
        "x = 30\n",
        "if x in arr:\n",
        "    print(f\"{x} found at index {arr.index(x)}\")\n",
        "else:\n",
        "    print(f\"{x} not found\")\n"
      ],
      "metadata": {
        "colab": {
          "base_uri": "https://localhost:8080/"
        },
        "id": "1w3rP19vae49",
        "outputId": "cb529e40-5539-4ea6-a852-8910c7ee0361"
      },
      "execution_count": 10,
      "outputs": [
        {
          "output_type": "stream",
          "name": "stdout",
          "text": [
            "30 found at index 2\n"
          ]
        }
      ]
    },
    {
      "cell_type": "code",
      "source": [],
      "metadata": {
        "id": "ez7-4QCfaiP8"
      },
      "execution_count": null,
      "outputs": []
    }
  ]
}