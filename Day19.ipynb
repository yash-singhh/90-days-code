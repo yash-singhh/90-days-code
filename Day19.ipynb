{
  "nbformat": 4,
  "nbformat_minor": 0,
  "metadata": {
    "colab": {
      "provenance": []
    },
    "kernelspec": {
      "name": "python3",
      "display_name": "Python 3"
    },
    "language_info": {
      "name": "python"
    }
  },
  "cells": [
    {
      "cell_type": "code",
      "execution_count": 3,
      "metadata": {
        "colab": {
          "base_uri": "https://localhost:8080/"
        },
        "id": "2Pbbm6GAXQn9",
        "outputId": "a15f440f-4bb4-4da2-88c3-8041e01ac456"
      },
      "outputs": [
        {
          "output_type": "execute_result",
          "data": {
            "text/plain": [
              "<function __main__.<lambda>(argument)>"
            ]
          },
          "metadata": {},
          "execution_count": 3
        }
      ],
      "source": [
        "lambda argument :expression"
      ]
    },
    {
      "cell_type": "code",
      "source": [
        "lambda arguments: expression\n"
      ],
      "metadata": {
        "colab": {
          "base_uri": "https://localhost:8080/"
        },
        "id": "e4nFBAFk_OGW",
        "outputId": "fb7ac22f-3d26-4272-dd94-f10e4e4066c7"
      },
      "execution_count": 4,
      "outputs": [
        {
          "output_type": "execute_result",
          "data": {
            "text/plain": [
              "<function __main__.<lambda>(arguments)>"
            ]
          },
          "metadata": {},
          "execution_count": 4
        }
      ]
    },
    {
      "cell_type": "code",
      "source": [
        "print(\"lets go my champ\")"
      ],
      "metadata": {
        "colab": {
          "base_uri": "https://localhost:8080/"
        },
        "id": "K2vFAqV7_Y1r",
        "outputId": "30c3ebca-4a05-4ca7-f49d-0a8e75cd701c"
      },
      "execution_count": 5,
      "outputs": [
        {
          "output_type": "stream",
          "name": "stdout",
          "text": [
            "lets go my champ\n"
          ]
        }
      ]
    },
    {
      "cell_type": "code",
      "source": [
        "lambda a, b: a + b\n"
      ],
      "metadata": {
        "colab": {
          "base_uri": "https://localhost:8080/"
        },
        "id": "yGNbMY3b3bxv",
        "outputId": "0b07413a-b8ba-42ce-bbb2-82a255212ded"
      },
      "execution_count": 6,
      "outputs": [
        {
          "output_type": "execute_result",
          "data": {
            "text/plain": [
              "<function __main__.<lambda>(a, b)>"
            ]
          },
          "metadata": {},
          "execution_count": 6
        }
      ]
    },
    {
      "cell_type": "code",
      "source": [
        "cube = lambda x: x**3\n",
        "print(cube(5))"
      ],
      "metadata": {
        "colab": {
          "base_uri": "https://localhost:8080/"
        },
        "id": "7fb1T0Zc3big",
        "outputId": "b73a5272-8206-4fbf-b2d6-25727c971315"
      },
      "execution_count": 7,
      "outputs": [
        {
          "output_type": "stream",
          "name": "stdout",
          "text": [
            "125\n"
          ]
        }
      ]
    },
    {
      "cell_type": "code",
      "source": [
        "words =['yash','champ']\n",
        "upper_word = list(map(lambda x:x.upper(),words))\n",
        "print(upper_word)"
      ],
      "metadata": {
        "colab": {
          "base_uri": "https://localhost:8080/"
        },
        "id": "czLRarUW3bWV",
        "outputId": "eb27501d-8655-42c5-f3b3-02e1cf92afd8"
      },
      "execution_count": 8,
      "outputs": [
        {
          "output_type": "stream",
          "name": "stdout",
          "text": [
            "['YASH', 'CHAMP']\n"
          ]
        }
      ]
    },
    {
      "cell_type": "code",
      "source": [
        "nums = [10, 55, 2,43, 99, 65,50]\n",
        "greater_than_50 = list(filter(lambda x: x >= 50, nums))\n",
        "print(greater_than_50)\n"
      ],
      "metadata": {
        "colab": {
          "base_uri": "https://localhost:8080/"
        },
        "id": "UttBlruhDVS3",
        "outputId": "e7526e61-e222-4fc8-8fe1-23790aea5792"
      },
      "execution_count": 9,
      "outputs": [
        {
          "output_type": "stream",
          "name": "stdout",
          "text": [
            "[55, 99, 65, 50]\n"
          ]
        }
      ]
    },
    {
      "cell_type": "code",
      "source": [
        "from functools import reduce\n",
        "nums = [1, 2, 3, 4, 5]\n",
        "sum_all = reduce(lambda a, b: a + b, nums)\n",
        "print(sum_all)"
      ],
      "metadata": {
        "id": "lGHTqpIJ3bJs",
        "colab": {
          "base_uri": "https://localhost:8080/"
        },
        "outputId": "fc8f7694-0e21-483c-d5c8-e8f03025375c"
      },
      "execution_count": 10,
      "outputs": [
        {
          "output_type": "stream",
          "name": "stdout",
          "text": [
            "15\n"
          ]
        }
      ]
    },
    {
      "cell_type": "code",
      "source": [
        "people = [{\"name\": \"A\", \"age\": 25}, {\"name\": \"B\", \"age\": 19}]\n",
        "sorted_people = sorted(people, key=lambda x: x[\"age\"])\n",
        "print(sorted_people)\n"
      ],
      "metadata": {
        "id": "vxj6uQin3a5O",
        "colab": {
          "base_uri": "https://localhost:8080/"
        },
        "outputId": "2f1822b5-b14a-4d6b-84d0-66c60d27cf59"
      },
      "execution_count": 11,
      "outputs": [
        {
          "output_type": "stream",
          "name": "stdout",
          "text": [
            "[{'name': 'B', 'age': 19}, {'name': 'A', 'age': 25}]\n"
          ]
        }
      ]
    },
    {
      "cell_type": "code",
      "source": [
        "sqr = lambda x: x*x\n",
        "print(sqr(5))"
      ],
      "metadata": {
        "colab": {
          "base_uri": "https://localhost:8080/"
        },
        "id": "mZnTg554_fNd",
        "outputId": "96356658-519a-42b6-f293-e1f372ed6e57"
      },
      "execution_count": 12,
      "outputs": [
        {
          "output_type": "stream",
          "name": "stdout",
          "text": [
            "25\n"
          ]
        }
      ]
    },
    {
      "cell_type": "code",
      "source": [
        "num =[1,2,34,5]\n",
        "sqr = list(map(lambda x:x**2 , num))\n",
        "print(sqr)"
      ],
      "metadata": {
        "colab": {
          "base_uri": "https://localhost:8080/"
        },
        "id": "NlkoGmWO_qbW",
        "outputId": "6f37659b-0b90-46f1-c8d0-daad84f840ab"
      },
      "execution_count": 13,
      "outputs": [
        {
          "output_type": "stream",
          "name": "stdout",
          "text": [
            "[1, 4, 1156, 25]\n"
          ]
        }
      ]
    },
    {
      "cell_type": "code",
      "source": [
        "\n",
        "nums = [1, 2, 3, 4]\n",
        "squares = list(map(lambda x: x ** 2, nums))\n",
        "evens = list(filter(lambda x: x % 2 == 0, nums))\n",
        "print(squares)\n",
        "print(evens)\n",
        "\n"
      ],
      "metadata": {
        "colab": {
          "base_uri": "https://localhost:8080/"
        },
        "id": "rsQPstEQAC6k",
        "outputId": "bc3ca843-efb3-4432-ef6e-a68080accfe3"
      },
      "execution_count": 14,
      "outputs": [
        {
          "output_type": "stream",
          "name": "stdout",
          "text": [
            "[1, 4, 9, 16]\n",
            "[2, 4]\n"
          ]
        }
      ]
    },
    {
      "cell_type": "code",
      "source": [
        "from functools import reduce\n",
        "\n",
        "sum_all = reduce(lambda a, b: a + b, nums)\n",
        "print(sum_all)\n",
        "nums = [1, 2, 3, 4]"
      ],
      "metadata": {
        "colab": {
          "base_uri": "https://localhost:8080/"
        },
        "id": "oa-dgoXFAdo3",
        "outputId": "3d682807-a8e6-48f8-ee89-9d6c89ffcd31"
      },
      "execution_count": 15,
      "outputs": [
        {
          "output_type": "stream",
          "name": "stdout",
          "text": [
            "10\n"
          ]
        }
      ]
    },
    {
      "cell_type": "code",
      "source": [
        "students = [(\"Alice\", 88), (\"Bob\", 95), (\"Charlie\", 70)]\n",
        "sorted_students = sorted(students, key=lambda x: x[1], reverse=True)\n",
        "print(sorted_students)\n"
      ],
      "metadata": {
        "colab": {
          "base_uri": "https://localhost:8080/"
        },
        "id": "TCH7zRP4A2Nd",
        "outputId": "fae93e94-5322-43aa-9fcb-d282f2edce12"
      },
      "execution_count": 16,
      "outputs": [
        {
          "output_type": "stream",
          "name": "stdout",
          "text": [
            "[('Bob', 95), ('Alice', 88), ('Charlie', 70)]\n"
          ]
        }
      ]
    },
    {
      "cell_type": "code",
      "source": [
        "nums =[1,2,3,45]\n",
        "\n",
        "print(all(x>0 for x in nums))\n",
        "print(any(x>0 for x in nums))\n",
        "print(any (x==0 for x in nums))"
      ],
      "metadata": {
        "colab": {
          "base_uri": "https://localhost:8080/"
        },
        "id": "gjDxllCiBDLB",
        "outputId": "76fcd16a-6309-49eb-b911-4c7c13281442"
      },
      "execution_count": 17,
      "outputs": [
        {
          "output_type": "stream",
          "name": "stdout",
          "text": [
            "True\n",
            "True\n",
            "False\n"
          ]
        }
      ]
    },
    {
      "cell_type": "code",
      "source": [
        "students = [(\"Yash\", 65), (\"Champ\", 85), (\"Neha\", 78), (\"Maya\", 92)]\n",
        "\n",
        "top_students = list(\n",
        "    map(lambda x: x[0],\n",
        "        sorted(filter(lambda s: s[1] > 75, students),\n",
        "               key=lambda x: x[1], reverse=True))\n",
        ")\n",
        "\n",
        "print(top_students)\n"
      ],
      "metadata": {
        "colab": {
          "base_uri": "https://localhost:8080/"
        },
        "id": "gEUZWE2aivex",
        "outputId": "2e6e6e14-48ec-4f5a-9f83-f42c12435078"
      },
      "execution_count": 19,
      "outputs": [
        {
          "output_type": "stream",
          "name": "stdout",
          "text": [
            "['Maya', 'Champ', 'Neha']\n"
          ]
        }
      ]
    },
    {
      "cell_type": "code",
      "source": [],
      "metadata": {
        "id": "OCtFIz9zBTOY"
      },
      "execution_count": 17,
      "outputs": []
    }
  ]
}