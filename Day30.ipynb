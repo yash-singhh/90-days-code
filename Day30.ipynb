{
  "nbformat": 4,
  "nbformat_minor": 0,
  "metadata": {
    "colab": {
      "provenance": []
    },
    "kernelspec": {
      "name": "python3",
      "display_name": "Python 3"
    },
    "language_info": {
      "name": "python"
    }
  },
  "cells": [
    {
      "cell_type": "code",
      "execution_count": 1,
      "metadata": {
        "id": "xf-3Oed6h4l_",
        "colab": {
          "base_uri": "https://localhost:8080/"
        },
        "outputId": "50b024e8-53fe-4793-e5b7-15f0dcb4505c"
      },
      "outputs": [
        {
          "output_type": "stream",
          "name": "stdout",
          "text": [
            "welcome to day 30 chamo!\n"
          ]
        }
      ],
      "source": [
        "print(\"welcome to day 30 chamo!\")"
      ]
    },
    {
      "cell_type": "code",
      "source": [
        "a= 5\n",
        "print(a*a)"
      ],
      "metadata": {
        "colab": {
          "base_uri": "https://localhost:8080/"
        },
        "id": "Wm02Rd5yQtXU",
        "outputId": "82ea3bc5-6f91-4591-9121-d2f274b89fd8"
      },
      "execution_count": 2,
      "outputs": [
        {
          "output_type": "stream",
          "name": "stdout",
          "text": [
            "25\n"
          ]
        }
      ]
    },
    {
      "cell_type": "code",
      "source": [
        "a= 5\n",
        "b=3\n",
        "print(a+b)\n",
        "print(a-b)\n",
        "print(a%b)\n",
        "print(a/b)\n",
        "print(a//b)\n"
      ],
      "metadata": {
        "colab": {
          "base_uri": "https://localhost:8080/"
        },
        "id": "5IaWqrqKQxPB",
        "outputId": "c95f6a36-82e8-49bf-f47a-c5f44be1b80b"
      },
      "execution_count": 5,
      "outputs": [
        {
          "output_type": "stream",
          "name": "stdout",
          "text": [
            "8\n",
            "2\n",
            "2\n",
            "1.6666666666666667\n",
            "1\n"
          ]
        }
      ]
    },
    {
      "cell_type": "code",
      "source": [],
      "metadata": {
        "id": "1ahGnNeHQ-UP"
      },
      "execution_count": null,
      "outputs": []
    },
    {
      "cell_type": "markdown",
      "source": [
        "A Pipeline in machine learning is like a factory assembly line:\n",
        "\n",
        "Step 1: Data Preprocessing (clean, transform, vectorize)\n",
        "\n",
        "Step 2: Model Training (fit the classifier)\n",
        "\n",
        "Step 3: Prediction (apply the trained steps in sequence)\n",
        "\n",
        "Instead of manually calling preprocessing → training → predicting separately,\n",
        "a Pipeline automates it so everything is linked in one object.\n",
        "\n"
      ],
      "metadata": {
        "id": "_5PUGEMzS5fi"
      }
    },
    {
      "cell_type": "code",
      "source": [
        "# Sentiment Analysis using Pipeline in Scikit-learn\n",
        "from sklearn.datasets import fetch_20newsgroups\n",
        "from sklearn.model_selection import train_test_split\n",
        "from sklearn.feature_extraction.text import CountVectorizer, TfidfTransformer\n",
        "from sklearn.linear_model import LogisticRegression\n",
        "from sklearn.pipeline import Pipeline\n",
        "from sklearn.metrics import classification_report\n",
        "\n",
        "# 1. Load dataset (we'll use 'rec.autos' and 'sci.space' categories for binary classification)\n",
        "categories = ['rec.autos', 'sci.space']\n",
        "data = fetch_20newsgroups(subset='all', categories=categories, shuffle=True, random_state=42)\n",
        "\n",
        "# Split data\n",
        "X_train, X_test, y_train, y_test = train_test_split(\n",
        "    data.data, data.target, test_size=0.3, random_state=42\n",
        ")\n",
        "\n",
        "# 2. Create a Pipeline\n",
        "text_clf = Pipeline([\n",
        "    ('vect', CountVectorizer()),             # Convert text to word counts\n",
        "    ('tfidf', TfidfTransformer()),           # Convert counts to TF-IDF\n",
        "    ('clf', LogisticRegression(max_iter=1000)) # Train classifier\n",
        "])\n",
        "\n",
        "# 3. Train the model\n",
        "text_clf.fit(X_train, y_train)\n",
        "\n",
        "# 4. Test the model\n",
        "y_pred = text_clf.predict(X_test)\n",
        "print(classification_report(y_test, y_pred, target_names=categories))\n",
        "\n",
        "# 5. Try custom predictions\n",
        "samples = [\n",
        "    \"The car's engine performance is amazing, I love driving it.\",\n",
        "    \"The rocket launch was a huge success for space exploration.\"\n",
        "]\n",
        "predictions = text_clf.predict(samples)\n",
        "\n",
        "for text, label in zip(samples, predictions):\n",
        "    print(f\"Text: {text}\\nPredicted Category: {categories[label]}\\n\")\n",
        "\n",
        "\n"
      ],
      "metadata": {
        "colab": {
          "base_uri": "https://localhost:8080/"
        },
        "id": "Qg_kMqWwS7qu",
        "outputId": "8112dbcc-7262-4703-e21e-bcc51fba25a9"
      },
      "execution_count": 6,
      "outputs": [
        {
          "output_type": "stream",
          "name": "stdout",
          "text": [
            "              precision    recall  f1-score   support\n",
            "\n",
            "   rec.autos       0.97      0.99      0.98       297\n",
            "   sci.space       0.99      0.97      0.98       297\n",
            "\n",
            "    accuracy                           0.98       594\n",
            "   macro avg       0.98      0.98      0.98       594\n",
            "weighted avg       0.98      0.98      0.98       594\n",
            "\n",
            "Text: The car's engine performance is amazing, I love driving it.\n",
            "Predicted Category: rec.autos\n",
            "\n",
            "Text: The rocket launch was a huge success for space exploration.\n",
            "Predicted Category: sci.space\n",
            "\n"
          ]
        }
      ]
    },
    {
      "cell_type": "code",
      "source": [],
      "metadata": {
        "id": "1Bu2CflsX-xW"
      },
      "execution_count": null,
      "outputs": []
    }
  ]
}