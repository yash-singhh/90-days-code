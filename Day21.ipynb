{
  "nbformat": 4,
  "nbformat_minor": 0,
  "metadata": {
    "colab": {
      "provenance": []
    },
    "kernelspec": {
      "name": "python3",
      "display_name": "Python 3"
    },
    "language_info": {
      "name": "python"
    }
  },
  "cells": [
    {
      "cell_type": "code",
      "execution_count": 3,
      "metadata": {
        "id": "2On-2R9y1CKz"
      },
      "outputs": [],
      "source": [
        "class Person :\n",
        "  population =0\n",
        "\n",
        "  def __init__(self,name,age,gender):\n",
        "    if not self.is_valid_age(age):\n",
        "      raise ValueError(\"Invalid age\")\n",
        "\n",
        "\n",
        "    self.name = name\n",
        "    self.age = age\n",
        "    self.gender = gender\n",
        "    Person.population +=1\n",
        "\n",
        "  def introduce(self):\n",
        "    print(f\"Hello, my name is {self.name} and I am {self.age} years old.\")\n",
        "\n",
        "  def celebrate_birthday(self):\n",
        "    self.age += 1\n",
        "    print(f\"Happy birthday! You are now {self.age} years old.\")\n",
        "\n",
        "  def is_adult(self):\n",
        "    return self.age >= 18\n",
        "\n",
        "  def update_name(self,new_name):\n",
        "    self.name = new_name\n",
        "    print(f\"Your name has been updated to {self.name}.\")\n",
        "\n",
        "\n",
        "  def __str__(self):\n",
        "    return f\"{self.name} ({self.age} years old)\"\n",
        "\n",
        "  @classmethod\n",
        "  def get_population(cls):\n",
        "    return cls.population\n",
        "\n",
        "    def is_valid_age(self,age):\n",
        "      return age > 0 and age < 120\n",
        "\n",
        "\n",
        "    def is_valid_age(age):\n",
        "        return isinstance(age, int) and age >= 0\n",
        "\n",
        "    def __str__(self):\n",
        "        return f\"{self.name} ({self.age} years old)\"\n",
        "\n",
        "\n"
      ]
    },
    {
      "cell_type": "code",
      "source": [
        "class Student(Person):\n",
        "    def __init__(self, name, age, gender, student_id):\n",
        "        super().__init__(name, age, gender)\n",
        "        self.student_id = student_id\n",
        "\n",
        "    def introduce(self):\n",
        "        print(f\"Hi, I'm {self.name}, a {self.age}-year-old {self.gender}, and my student ID is {self.student_id}.\")\n"
      ],
      "metadata": {
        "id": "hkRuiglT1_Pv"
      },
      "execution_count": 4,
      "outputs": []
    },
    {
      "cell_type": "code",
      "source": [
        "def average_age(person_list):\n",
        "    if not person_list:\n",
        "        return 0\n",
        "    total_age = sum(person.age for person in person_list)\n",
        "    return total_age / len(person_list)\n",
        "\n",
        "\n",
        "p1 = Person(\"Yash\", 22, \"Male\")\n",
        "p2 = Person(\"Aarav\", 19, \"Male\")\n",
        "p3 = Person(\"Sneha\", 25, \"Female\")\n",
        "\n",
        "\n",
        "p1.update_name(\"Yash champ\")\n",
        "\n",
        "\n",
        "s1 = Student(\"Isha\", 20, \"Female\", \"AI2025\")\n",
        "\n",
        "\n",
        "p1.introduce()\n",
        "s1.introduce()\n",
        "\n",
        "\n",
        "print(f\"Total Person objects created: {Person.population}\")\n",
        "\n",
        "\n",
        "print(f\"Is -5 a valid age? {Person.is_valid_age(-5)}\")\n",
        "print(f\"Is 30 a valid age? {Person.is_valid_age(30)}\")\n",
        "\n",
        "\n",
        "people = [p1, p2, p3, s1]  # Student is also a Person\n",
        "print(f\"Average age of all people: {average_age(people):.2f}\")\n"
      ],
      "metadata": {
        "colab": {
          "base_uri": "https://localhost:8080/",
          "height": 332
        },
        "id": "qKEEebhC3E67",
        "outputId": "2ba0ed85-5ae4-4a88-cef9-2d723b11db35"
      },
      "execution_count": 7,
      "outputs": [
        {
          "output_type": "error",
          "ename": "AttributeError",
          "evalue": "'Person' object has no attribute 'is_valid_age'",
          "traceback": [
            "\u001b[0;31m---------------------------------------------------------------------------\u001b[0m",
            "\u001b[0;31mAttributeError\u001b[0m                            Traceback (most recent call last)",
            "\u001b[0;32m<ipython-input-7-3522826644>\u001b[0m in \u001b[0;36m<cell line: 0>\u001b[0;34m()\u001b[0m\n\u001b[1;32m      6\u001b[0m \u001b[0;34m\u001b[0m\u001b[0m\n\u001b[1;32m      7\u001b[0m \u001b[0;34m\u001b[0m\u001b[0m\n\u001b[0;32m----> 8\u001b[0;31m \u001b[0mp1\u001b[0m \u001b[0;34m=\u001b[0m \u001b[0mPerson\u001b[0m\u001b[0;34m(\u001b[0m\u001b[0;34m\"Yash\"\u001b[0m\u001b[0;34m,\u001b[0m \u001b[0;36m22\u001b[0m\u001b[0;34m,\u001b[0m \u001b[0;34m\"Male\"\u001b[0m\u001b[0;34m)\u001b[0m\u001b[0;34m\u001b[0m\u001b[0;34m\u001b[0m\u001b[0m\n\u001b[0m\u001b[1;32m      9\u001b[0m \u001b[0mp2\u001b[0m \u001b[0;34m=\u001b[0m \u001b[0mPerson\u001b[0m\u001b[0;34m(\u001b[0m\u001b[0;34m\"Aarav\"\u001b[0m\u001b[0;34m,\u001b[0m \u001b[0;36m19\u001b[0m\u001b[0;34m,\u001b[0m \u001b[0;34m\"Male\"\u001b[0m\u001b[0;34m)\u001b[0m\u001b[0;34m\u001b[0m\u001b[0;34m\u001b[0m\u001b[0m\n\u001b[1;32m     10\u001b[0m \u001b[0mp3\u001b[0m \u001b[0;34m=\u001b[0m \u001b[0mPerson\u001b[0m\u001b[0;34m(\u001b[0m\u001b[0;34m\"Sneha\"\u001b[0m\u001b[0;34m,\u001b[0m \u001b[0;36m25\u001b[0m\u001b[0;34m,\u001b[0m \u001b[0;34m\"Female\"\u001b[0m\u001b[0;34m)\u001b[0m\u001b[0;34m\u001b[0m\u001b[0;34m\u001b[0m\u001b[0m\n",
            "\u001b[0;32m<ipython-input-3-1374350245>\u001b[0m in \u001b[0;36m__init__\u001b[0;34m(self, name, age, gender)\u001b[0m\n\u001b[1;32m      3\u001b[0m \u001b[0;34m\u001b[0m\u001b[0m\n\u001b[1;32m      4\u001b[0m   \u001b[0;32mdef\u001b[0m \u001b[0m__init__\u001b[0m\u001b[0;34m(\u001b[0m\u001b[0mself\u001b[0m\u001b[0;34m,\u001b[0m\u001b[0mname\u001b[0m\u001b[0;34m,\u001b[0m\u001b[0mage\u001b[0m\u001b[0;34m,\u001b[0m\u001b[0mgender\u001b[0m\u001b[0;34m)\u001b[0m\u001b[0;34m:\u001b[0m\u001b[0;34m\u001b[0m\u001b[0;34m\u001b[0m\u001b[0m\n\u001b[0;32m----> 5\u001b[0;31m     \u001b[0;32mif\u001b[0m \u001b[0;32mnot\u001b[0m \u001b[0mself\u001b[0m\u001b[0;34m.\u001b[0m\u001b[0mis_valid_age\u001b[0m\u001b[0;34m(\u001b[0m\u001b[0mage\u001b[0m\u001b[0;34m)\u001b[0m\u001b[0;34m:\u001b[0m\u001b[0;34m\u001b[0m\u001b[0;34m\u001b[0m\u001b[0m\n\u001b[0m\u001b[1;32m      6\u001b[0m       \u001b[0;32mraise\u001b[0m \u001b[0mValueError\u001b[0m\u001b[0;34m(\u001b[0m\u001b[0;34m\"Invalid age\"\u001b[0m\u001b[0;34m)\u001b[0m\u001b[0;34m\u001b[0m\u001b[0;34m\u001b[0m\u001b[0m\n\u001b[1;32m      7\u001b[0m \u001b[0;34m\u001b[0m\u001b[0m\n",
            "\u001b[0;31mAttributeError\u001b[0m: 'Person' object has no attribute 'is_valid_age'"
          ]
        }
      ]
    },
    {
      "cell_type": "code",
      "source": [
        "class Person:\n",
        "    population = 0\n",
        "\n",
        "    def __init__(self, name, age, gender):\n",
        "        if not self.is_valid_age(age):\n",
        "            raise ValueError(\"Age must be a non-negative integer.\")\n",
        "\n",
        "        self.name = name\n",
        "        self.age = age\n",
        "        self.gender = gender\n",
        "        Person.population += 1\n",
        "\n",
        "    def introduce(self):\n",
        "        print(f\"Hi, I'm {self.name}, a {self.age}-year-old {self.gender}.\")\n",
        "\n",
        "    def birthday(self):\n",
        "        self.age += 1\n",
        "        print(f\"Happy Birthday, {self.name}!\")\n",
        "\n",
        "    def is_adult(self):\n",
        "        return self.age >= 18\n",
        "\n",
        "    def update_name(self, new_name):\n",
        "        self.name = new_name\n",
        "        print(f\"Name updated to {self.name}\")\n",
        "\n",
        "    @staticmethod\n",
        "    def is_valid_age(age):\n",
        "        return isinstance(age, int) and age >= 0\n",
        "\n",
        "    def __str__(self):\n",
        "        return f\"{self.name} ({self.age} years old)\"\n",
        "\n",
        "\n",
        "\n",
        "class Student(Person):\n",
        "    def __init__(self, name, age, gender, student_id):\n",
        "        super().__init__(name, age, gender)\n",
        "        self.student_id = student_id\n",
        "\n",
        "    def introduce(self):\n",
        "        print(f\"Hi, I'm {self.name}, a {self.age}-year-old {self.gender}, and my student ID is {self.student_id}.\")\n",
        "\n",
        "\n",
        "\n",
        "def average_age(person_list):\n",
        "    if not person_list:\n",
        "        return 0\n",
        "    total_age = sum(person.age for person in person_list)\n",
        "    return total_age / len(person_list)\n",
        "\n",
        "\n",
        "\n",
        "p1 = Person(\"Yash\", 22, \"Male\")\n",
        "p2 = Person(\"Aarav\", 19, \"Male\")\n",
        "p3 = Person(\"Sneha\", 25, \"Female\")\n",
        "\n",
        "\n",
        "p1.update_name(\"Yash Singh\")\n",
        "\n",
        "\n",
        "s1 = Student(\"Isha\", 20, \"Female\", \"AI2025\")\n",
        "\n",
        "p1.introduce()\n",
        "s1.introduce()\n",
        "\n",
        "print(f\"Total Person objects created: {Person.population}\")\n",
        "\n",
        "print(f\"Is -5 a valid age? {Person.is_valid_age(-5)}\")\n",
        "print(f\"Is 30 a valid age? {Person.is_valid_age(30)}\")\n",
        "\n",
        "\n",
        "people = [p1, p2, p3, s1]  # Student is also a Person\n",
        "print(f\"Average age of all people: {average_age(people):.2f}\")\n"
      ],
      "metadata": {
        "colab": {
          "base_uri": "https://localhost:8080/"
        },
        "id": "KaUq-SbZ3H2e",
        "outputId": "a60cbc97-2fb8-4d80-f71e-963216ec0180"
      },
      "execution_count": 9,
      "outputs": [
        {
          "output_type": "stream",
          "name": "stdout",
          "text": [
            "Name updated to Yash Singh\n",
            "Hi, I'm Yash Singh, a 22-year-old Male.\n",
            "Hi, I'm Isha, a 20-year-old Female, and my student ID is AI2025.\n",
            "Total Person objects created: 4\n",
            "Is -5 a valid age? False\n",
            "Is 30 a valid age? True\n",
            "Average age of all people: 21.50\n"
          ]
        }
      ]
    },
    {
      "cell_type": "markdown",
      "source": [],
      "metadata": {
        "id": "DF3kNUo1XejY"
      }
    },
    {
      "cell_type": "code",
      "source": [
        "!pip install requests\n",
        "\n",
        "\n",
        "\n"
      ],
      "metadata": {
        "colab": {
          "base_uri": "https://localhost:8080/"
        },
        "id": "Dge9Nl-H3UP4",
        "outputId": "7ab4876e-3ef0-47ef-928a-e403be683d54"
      },
      "execution_count": 13,
      "outputs": [
        {
          "output_type": "stream",
          "name": "stdout",
          "text": [
            "Requirement already satisfied: requests in /usr/local/lib/python3.11/dist-packages (2.32.3)\n",
            "Requirement already satisfied: charset-normalizer<4,>=2 in /usr/local/lib/python3.11/dist-packages (from requests) (3.4.2)\n",
            "Requirement already satisfied: idna<4,>=2.5 in /usr/local/lib/python3.11/dist-packages (from requests) (3.10)\n",
            "Requirement already satisfied: urllib3<3,>=1.21.1 in /usr/local/lib/python3.11/dist-packages (from requests) (2.4.0)\n",
            "Requirement already satisfied: certifi>=2017.4.17 in /usr/local/lib/python3.11/dist-packages (from requests) (2025.4.26)\n"
          ]
        }
      ]
    },
    {
      "cell_type": "code",
      "source": [
        "import requests\n",
        "\n",
        "API_URL = \"YOUR API\"\n",
        "\n",
        "def fetch_rates(base_currency):\n",
        "    response = requests.get(API_URL + base_currency)\n",
        "    if response.status_code != 200:\n",
        "        raise Exception(\"Failed to fetch exchange rates.\")\n",
        "    data = response.json()\n",
        "    return data[\"rates\"]\n",
        "\n",
        "def convert_currency(amount, rate):\n",
        "    return amount * rate\n",
        "\n",
        "def show_top_conversions(rates, amount):\n",
        "    print(\"\\n💱 Top 5 Conversions:\")\n",
        "    for currency in list(rates.keys())[:5]:\n",
        "        converted = convert_currency(amount, rates[currency])\n",
        "        print(f\"{currency}: {converted:.2f}\")\n",
        "\n",
        "def main():\n",
        "    print(\"🌍 Currency Converter App\")\n",
        "    base = input(\"Enter base currency (e.g., USD): \").upper()\n",
        "    target = input(\"Enter target currency (e.g., INR): \").upper()\n",
        "\n",
        "    try:\n",
        "        amount = float(input(\"Enter amount to convert: \"))\n",
        "        rates = fetch_rates(base)\n",
        "        if target not in rates:\n",
        "            print(\"⚠️ Currency not supported.\")\n",
        "            return\n",
        "        result = convert_currency(amount, rates[target])\n",
        "        print(f\"\\n✅ {amount} {base} = {result:.2f} {target}\")\n",
        "        show_top_conversions(rates, amount)\n",
        "    except ValueError:\n",
        "        print(\"⚠️ Invalid amount.\")\n",
        "    except Exception as e:\n",
        "        print(f\"⚠️ Error: {e}\")\n",
        "\n",
        "if __name__ == \"__main__\":\n",
        "    main()\n"
      ],
      "metadata": {
        "colab": {
          "base_uri": "https://localhost:8080/"
        },
        "id": "n428SIrDDwqr",
        "outputId": "1d064c4c-b5bc-4994-c7f9-46328147afad"
      },
      "execution_count": null,
      "outputs": [
        {
          "name": "stdout",
          "output_type": "stream",
          "text": [
            "🌍 Currency Converter App\n",
            "Enter base currency (e.g., USD): USD\n"
          ]
        }
      ]
    },
    {
      "cell_type": "code",
      "source": [],
      "metadata": {
        "id": "pHsqjhEAabUe"
      },
      "execution_count": null,
      "outputs": []
    }
  ]
}