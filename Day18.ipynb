{
  "nbformat": 4,
  "nbformat_minor": 0,
  "metadata": {
    "colab": {
      "provenance": []
    },
    "kernelspec": {
      "name": "python3",
      "display_name": "Python 3"
    },
    "language_info": {
      "name": "python"
    }
  },
  "cells": [
    {
      "cell_type": "code",
      "execution_count": 1,
      "metadata": {
        "colab": {
          "base_uri": "https://localhost:8080/"
        },
        "id": "2Pbbm6GAXQn9",
        "outputId": "0545f8b4-b133-4183-81bf-9b1812104774"
      },
      "outputs": [
        {
          "output_type": "execute_result",
          "data": {
            "text/plain": [
              "<function __main__.<lambda>(argument)>"
            ]
          },
          "metadata": {},
          "execution_count": 1
        }
      ],
      "source": [
        "lambda argument :expression"
      ]
    },
    {
      "cell_type": "code",
      "source": [
        "lambda arguments: expression\n"
      ],
      "metadata": {
        "colab": {
          "base_uri": "https://localhost:8080/"
        },
        "id": "e4nFBAFk_OGW",
        "outputId": "b0163ec1-9d59-4da9-c55e-e182c8928403"
      },
      "execution_count": 2,
      "outputs": [
        {
          "output_type": "execute_result",
          "data": {
            "text/plain": [
              "<function __main__.<lambda>(arguments)>"
            ]
          },
          "metadata": {},
          "execution_count": 2
        }
      ]
    },
    {
      "cell_type": "code",
      "source": [
        "print(\"lets go my champ\")"
      ],
      "metadata": {
        "colab": {
          "base_uri": "https://localhost:8080/"
        },
        "id": "K2vFAqV7_Y1r",
        "outputId": "f7497952-635f-444f-dce5-acdd4a33b40c"
      },
      "execution_count": 3,
      "outputs": [
        {
          "output_type": "stream",
          "name": "stdout",
          "text": [
            "lets go my champ\n"
          ]
        }
      ]
    },
    {
      "cell_type": "code",
      "source": [
        "sqr = lambda x: x*x\n",
        "print(sqr(5))"
      ],
      "metadata": {
        "colab": {
          "base_uri": "https://localhost:8080/"
        },
        "id": "mZnTg554_fNd",
        "outputId": "71acf815-ec1a-4d0a-fcf4-53517560942d"
      },
      "execution_count": 5,
      "outputs": [
        {
          "output_type": "stream",
          "name": "stdout",
          "text": [
            "25\n"
          ]
        }
      ]
    },
    {
      "cell_type": "code",
      "source": [
        "num =[1,2,34,5]\n",
        "sqr = list(map(lambda x:x**2 , num))\n",
        "print(sqr)"
      ],
      "metadata": {
        "colab": {
          "base_uri": "https://localhost:8080/"
        },
        "id": "NlkoGmWO_qbW",
        "outputId": "75516754-2eb9-4f50-9d87-9b16e0d90990"
      },
      "execution_count": 10,
      "outputs": [
        {
          "output_type": "stream",
          "name": "stdout",
          "text": [
            "[1, 4, 1156, 25]\n"
          ]
        }
      ]
    },
    {
      "cell_type": "code",
      "source": [
        "\n",
        "nums = [1, 2, 3, 4]\n",
        "squares = list(map(lambda x: x ** 2, nums))\n",
        "evens = list(filter(lambda x: x % 2 == 0, nums))\n",
        "print(squares)\n",
        "print(evens)\n",
        "\n"
      ],
      "metadata": {
        "colab": {
          "base_uri": "https://localhost:8080/"
        },
        "id": "rsQPstEQAC6k",
        "outputId": "f54ac106-414e-48b4-86bb-7d4536e2475d"
      },
      "execution_count": 14,
      "outputs": [
        {
          "output_type": "stream",
          "name": "stdout",
          "text": [
            "[1, 4, 9, 16]\n",
            "[2, 4]\n"
          ]
        }
      ]
    },
    {
      "cell_type": "code",
      "source": [
        "from functools import reduce\n",
        "\n",
        "sum_all = reduce(lambda a, b: a + b, nums)\n",
        "print(sum_all)\n",
        "nums = [1, 2, 3, 4]"
      ],
      "metadata": {
        "colab": {
          "base_uri": "https://localhost:8080/"
        },
        "id": "oa-dgoXFAdo3",
        "outputId": "25e2eed5-8c20-4c3b-adc9-644b666e84e3"
      },
      "execution_count": 16,
      "outputs": [
        {
          "output_type": "stream",
          "name": "stdout",
          "text": [
            "10\n"
          ]
        }
      ]
    },
    {
      "cell_type": "code",
      "source": [
        "students = [(\"Alice\", 88), (\"Bob\", 95), (\"Charlie\", 70)]\n",
        "sorted_students = sorted(students, key=lambda x: x[1], reverse=True)\n",
        "print(sorted_students)\n"
      ],
      "metadata": {
        "colab": {
          "base_uri": "https://localhost:8080/"
        },
        "id": "TCH7zRP4A2Nd",
        "outputId": "42f28024-0af4-4081-fe8a-49957f2a38dd"
      },
      "execution_count": 18,
      "outputs": [
        {
          "output_type": "stream",
          "name": "stdout",
          "text": [
            "[('Bob', 95), ('Alice', 88), ('Charlie', 70)]\n"
          ]
        }
      ]
    },
    {
      "cell_type": "code",
      "source": [
        "nums =[1,2,3,45]\n",
        "\n",
        "print(all(x>0 for x in nums))\n",
        "print(any(x>0 for x in nums))\n",
        "print(any (x==0 for x in nums))"
      ],
      "metadata": {
        "colab": {
          "base_uri": "https://localhost:8080/"
        },
        "id": "gjDxllCiBDLB",
        "outputId": "f415c76f-64c9-4a9f-c3fc-ef918e9e6034"
      },
      "execution_count": 21,
      "outputs": [
        {
          "output_type": "stream",
          "name": "stdout",
          "text": [
            "True\n",
            "True\n",
            "False\n"
          ]
        }
      ]
    },
    {
      "cell_type": "code",
      "source": [],
      "metadata": {
        "id": "OCtFIz9zBTOY"
      },
      "execution_count": null,
      "outputs": []
    }
  ]
}