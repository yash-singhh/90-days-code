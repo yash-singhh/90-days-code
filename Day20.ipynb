{
  "nbformat": 4,
  "nbformat_minor": 0,
  "metadata": {
    "colab": {
      "provenance": []
    },
    "kernelspec": {
      "name": "python3",
      "display_name": "Python 3"
    },
    "language_info": {
      "name": "python"
    }
  },
  "cells": [
    {
      "cell_type": "code",
      "execution_count": 1,
      "metadata": {
        "colab": {
          "base_uri": "https://localhost:8080/"
        },
        "id": "59P51ZwDjfsZ",
        "outputId": "a9cb3130-7699-4ef6-9c80-9671ce14119e"
      },
      "outputs": [
        {
          "output_type": "stream",
          "name": "stdout",
          "text": [
            "welcome to day 20\n"
          ]
        }
      ],
      "source": [
        "print(\"welcome to day 20\")"
      ]
    },
    {
      "cell_type": "code",
      "source": [
        "class Person:\n",
        "    def __init__(self, name, age):\n",
        "        self.name = name\n",
        "        self.age = age\n",
        "\n",
        "    def introduce(self):\n",
        "        print(f\"Hi, I'm {self.name} and I'm {self.age} years old.\")\n"
      ],
      "metadata": {
        "id": "QH4IuHuhk5k5"
      },
      "execution_count": 2,
      "outputs": []
    },
    {
      "cell_type": "code",
      "source": [
        "p1 = Person(\"Yash\", 22)\n",
        "p1.introduce()\n"
      ],
      "metadata": {
        "id": "-3J6Ii9alucD",
        "outputId": "e30afe63-5d48-463c-fa0e-4d201da4d52d",
        "colab": {
          "base_uri": "https://localhost:8080/"
        }
      },
      "execution_count": 3,
      "outputs": [
        {
          "output_type": "stream",
          "name": "stdout",
          "text": [
            "Hi, I'm Yash and I'm 22 years old.\n"
          ]
        }
      ]
    },
    {
      "cell_type": "code",
      "source": [
        "class Person:\n",
        "    def __init__(self, name, age, gender):\n",
        "        self.name = name\n",
        "        self.age = age\n",
        "        self.gender = gender\n",
        "\n",
        "    def introduce(self):\n",
        "        print(f\"Hi, I'm {self.name}, a {self.age}-year-old {self.gender}.\")\n",
        "\n",
        "    def birthday(self):\n",
        "        self.age += 1\n",
        "        print(f\"Happy Birthday, {self.name}!\")\n",
        "\n",
        "    def is_adult(self):\n",
        "        return self.age >= 18\n",
        "\n",
        "    def __str__(self):\n",
        "        return f\"{self.name} ({self.age} years old)\"\n",
        "\n",
        "\n",
        "# Example usage:\n",
        "p1 = Person(\"Yash\", 21, \"Male\")\n",
        "p2 = Person(\"Aarav\", 19, \"Male\")\n",
        "\n",
        "# Birthday\n",
        "p1.birthday()  # Increases age by 1\n",
        "p1.introduce()\n",
        "\n",
        "# Compare ages\n",
        "if p1.age > p2.age:\n",
        "    print(f\"{p1.name} is older than {p2.name}.\")\n",
        "elif p1.age < p2.age:\n",
        "    print(f\"{p2.name} is older than {p1.name}.\")\n",
        "else:\n",
        "    print(f\"{p1.name} and {p2.name} are of the same age.\")\n",
        "\n",
        "# Check adulthood\n",
        "print(f\"{p1.name} is an adult: {p1.is_adult()}\")\n",
        "print(f\"{p2.name} is an adult: {p2.is_adult()}\")\n",
        "\n",
        "# Print object using __str__\n",
        "print(str(p1))\n",
        "print(str(p2))\n"
      ],
      "metadata": {
        "id": "dC_lfPOAlxzr",
        "colab": {
          "base_uri": "https://localhost:8080/"
        },
        "outputId": "080ca73b-1f56-4165-849e-ccffbb37d7c1"
      },
      "execution_count": 4,
      "outputs": [
        {
          "output_type": "stream",
          "name": "stdout",
          "text": [
            "Happy Birthday, Yash!\n",
            "Hi, I'm Yash, a 22-year-old Male.\n",
            "Yash is older than Aarav.\n",
            "Yash is an adult: True\n",
            "Aarav is an adult: True\n",
            "Yash (22 years old)\n",
            "Aarav (19 years old)\n"
          ]
        }
      ]
    },
    {
      "cell_type": "code",
      "source": [],
      "metadata": {
        "id": "f02Lx5BMy5Z6"
      },
      "execution_count": null,
      "outputs": []
    }
  ]
}