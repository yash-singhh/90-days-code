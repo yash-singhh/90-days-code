{
 "cells": [
  {
   "cell_type": "code",
   "execution_count": 1,
   "id": "2e7fe66b",
   "metadata": {},
   "outputs": [
    {
     "name": "stdout",
     "output_type": "stream",
     "text": [
      "lets go champ day 14\n"
     ]
    }
   ],
   "source": [
    "print(\"lets go champ day 14\")"
   ]
  },
  {
   "cell_type": "code",
   "execution_count": 11,
   "id": "96c0a123",
   "metadata": {},
   "outputs": [],
   "source": [
    "file=  open(\"demofile.txt\",'r')\n",
    "content= file.read()"
   ]
  },
  {
   "cell_type": "code",
   "execution_count": 5,
   "id": "4cb8bdf5",
   "metadata": {},
   "outputs": [
    {
     "name": "stdout",
     "output_type": "stream",
     "text": [
      "\n"
     ]
    }
   ],
   "source": [
    "f=open(r\"C:\\\\Users\\\\SINGH\\\\Desktop\\\\Agora\\\\Days\\\\file.txt\")\n",
    "print(f.read())"
   ]
  },
  {
   "cell_type": "code",
   "execution_count": 6,
   "id": "78029ff4",
   "metadata": {},
   "outputs": [
    {
     "name": "stdout",
     "output_type": "stream",
     "text": [
      "\n"
     ]
    }
   ],
   "source": [
    "with open(\"file.txt\") as f:\n",
    "    print(f.read())"
   ]
  },
  {
   "cell_type": "code",
   "execution_count": 7,
   "id": "0690e58c",
   "metadata": {},
   "outputs": [
    {
     "name": "stdout",
     "output_type": "stream",
     "text": [
      "\n"
     ]
    }
   ],
   "source": [
    "f = open('file.txt')\n",
    "print(f.readline())\n",
    "f.close()"
   ]
  },
  {
   "cell_type": "code",
   "execution_count": 15,
   "id": "561f327f",
   "metadata": {},
   "outputs": [
    {
     "name": "stdout",
     "output_type": "stream",
     "text": [
      "this is my demo file\n",
      "\n",
      "Cell In[8], line 1\n",
      "----> 1 with open(\"demofile.txt\") as f:\n",
      "      2   print(f.read(5))\n",
      "\n",
      "File ~\\AppData\\Roaming\\Python\\Python312\\site-packages\\IPython\\core\\interactiveshell.py:326, in _modified_open(file, *args, **kwargs)\n",
      "    319 if file in {0, 1, 2}:\n",
      "    320     raise ValueError(\n",
      "    321         f\"IPython won't let you open fd={file} by default \"\n",
      "    322         \"as it is likely to crash IPython. If you know what you are doing, \"\n",
      "    323         \"you can use builtins' open.\"\n"
     ]
    }
   ],
   "source": [
    "with open(\"demofile.txt\") as f:\n",
    "  print(f.read(500))\n"
   ]
  },
  {
   "cell_type": "code",
   "execution_count": 18,
   "id": "57e7a40f",
   "metadata": {},
   "outputs": [
    {
     "name": "stdout",
     "output_type": "stream",
     "text": [
      "this is my demo file\n",
      "\n"
     ]
    }
   ],
   "source": [
    "with open('demofile.txt') as f:\n",
    "    print(f.readline())"
   ]
  },
  {
   "cell_type": "code",
   "execution_count": 19,
   "id": "19f6c42b",
   "metadata": {},
   "outputs": [
    {
     "name": "stdout",
     "output_type": "stream",
     "text": [
      "this is my demo file\n",
      "\n",
      "\n",
      "\n"
     ]
    }
   ],
   "source": [
    "with open(\"demofile.txt\") as f:\n",
    "  print(f.readline())\n",
    "  print(f.readline())"
   ]
  },
  {
   "cell_type": "code",
   "execution_count": 21,
   "id": "49f5a289",
   "metadata": {},
   "outputs": [
    {
     "name": "stdout",
     "output_type": "stream",
     "text": [
      "this is my demo file\n",
      "\n",
      "Yash is hero, professional\n",
      "\n",
      "\n",
      "\n",
      "Cell In[8], line 1\n",
      "\n",
      "----> 1 with open(\"demofile.txt\") as f:\n",
      "\n",
      "      2   print(f.read(5))\n",
      "\n",
      "\n",
      "\n",
      "File ~\\AppData\\Roaming\\Python\\Python312\\site-packages\\IPython\\core\\interactiveshell.py:326, in _modified_open(file, *args, **kwargs)\n",
      "\n",
      "    319 if file in {0, 1, 2}:\n",
      "\n",
      "    320     raise ValueError(\n",
      "\n",
      "    321         f\"IPython won't let you open fd={file} by default \"\n",
      "\n",
      "    322         \"as it is likely to crash IPython. If you know what you are doing, \"\n",
      "\n",
      "    323         \"you can use builtins' open.\"\n",
      "\n",
      "    324     )\n",
      "\n",
      "--> 326 return io_open(file, *args, **kwargs)\n",
      "\n",
      "\n",
      "\n",
      "FileNotFoundError: [Errno 2] No such file or directory: 'demofile.txt'\n"
     ]
    }
   ],
   "source": [
    "with open('demofile.txt') as f:\n",
    "    for x in f:\n",
    "        print(x)"
   ]
  },
  {
   "cell_type": "code",
   "execution_count": null,
   "id": "5f862d77",
   "metadata": {},
   "outputs": [],
   "source": [
    "with open(\"demofile.txt\") as f:\n",
    "  print(f.readline())\n",
    "  print(f.readline())"
   ]
  },
  {
   "cell_type": "code",
   "execution_count": 23,
   "id": "8ee67714",
   "metadata": {},
   "outputs": [
    {
     "name": "stdout",
     "output_type": "stream",
     "text": [
      "this is my demo file\n",
      "Yash is hero, professional\n",
      "\n",
      "Cell In[8], line 1\n",
      "----> 1 with open(\"demofile.txt\") as f:\n",
      "      2   print(f.read(5))\n",
      "\n",
      "File ~\\AppData\\Roaming\\Python\\Python312\\site-packages\\IPython\\core\\interactiveshell.py:326, in _modified_open(file, *args, **kwargs)\n",
      "    319 if file in {0, 1, 2}:\n",
      "    320     raise ValueError(\n",
      "    321         f\"IPython won't let you open fd={file} by default \"\n",
      "    322         \"as it is likely to crash IPython. If you know what you are doing, \"\n",
      "    323         \"you can use builtins' open.\"\n",
      "    324     )\n",
      "--> 326 return io_open(file, *args, **kwargs)\n",
      "\n",
      "FileNotFoundError: [Errno 2] No such file or directory: 'demofile.txt'Now the file has more content!Now the file has more content!\n"
     ]
    }
   ],
   "source": [
    "with open(\"demofile.txt\", \"a\") as f:\n",
    "  f.write(\"Now the file has more content!\")\n",
    "\n",
    "#open and read the file after the appending:\n",
    "with open(\"demofile.txt\") as f:\n",
    "  print(f.read())"
   ]
  },
  {
   "cell_type": "markdown",
   "id": "4b05e8b3",
   "metadata": {},
   "source": [
    " Append a Timestamp"
   ]
  },
  {
   "cell_type": "code",
   "execution_count": 24,
   "id": "8eeb1341",
   "metadata": {},
   "outputs": [],
   "source": [
    "from datetime import datetime\n",
    "with open(\"demofile.txt\", \"a\") as f:\n",
    "    f.write(f\"\\nLogged at: {datetime.now()}\")\n"
   ]
  },
  {
   "cell_type": "markdown",
   "id": "27d9baec",
   "metadata": {},
   "source": [
    "count words in a file"
   ]
  },
  {
   "cell_type": "code",
   "execution_count": 25,
   "id": "d5af28fa",
   "metadata": {},
   "outputs": [
    {
     "name": "stdout",
     "output_type": "stream",
     "text": [
      "word count: 100\n"
     ]
    }
   ],
   "source": [
    "with open(\"demofile.txt\",'r') as f:\n",
    "    text = f.read()\n",
    "    print(\"word count:\", len(text.split()))"
   ]
  },
  {
   "cell_type": "code",
   "execution_count": 26,
   "id": "72f936c0",
   "metadata": {},
   "outputs": [],
   "source": [
    "from pathlib import Path\n",
    "\n",
    "file_path = Path(\"data\") / \"info.txt\"\n",
    "file_path.parent.mkdir(exist_ok=True)  # Create dir if needed\n",
    "\n",
    "with open(file_path, \"w\") as f:\n",
    "    f.write(\"Stored using Pathlib.\")\n"
   ]
  },
  {
   "cell_type": "code",
   "execution_count": null,
   "id": "d3eb5d98",
   "metadata": {},
   "outputs": [],
   "source": [
    "Question for pracatice"
   ]
  },
  {
   "cell_type": "markdown",
   "id": "93534f07",
   "metadata": {},
   "source": [
    "Question for practice"
   ]
  },
  {
   "cell_type": "code",
   "execution_count": 28,
   "id": "455a65e3",
   "metadata": {},
   "outputs": [
    {
     "name": "stdout",
     "output_type": "stream",
     "text": [
      "[0, 5, 10, 15, 20, 25, 30, 35, 40, 45]\n"
     ]
    }
   ],
   "source": [
    "multipal = [x for x in range(50) if x % 5==0]\n",
    "print(multipal)"
   ]
  },
  {
   "cell_type": "code",
   "execution_count": 33,
   "id": "e43c5f1b",
   "metadata": {},
   "outputs": [
    {
     "name": "stdout",
     "output_type": "stream",
     "text": [
      "[0, 6, 12, 18, 24, 30, 36, 42, 48, 54, 60, 66, 72, 78, 84, 90, 96]\n"
     ]
    }
   ],
   "source": [
    "multipal=[]\n",
    "for x in range (100):\n",
    "    if x%6 ==0:\n",
    "        multipal.append(x)\n",
    "print(multipal)"
   ]
  },
  {
   "cell_type": "code",
   "execution_count": 34,
   "id": "bec267d0",
   "metadata": {},
   "outputs": [
    {
     "name": "stdout",
     "output_type": "stream",
     "text": [
      "[True, False, True, False, True, False, True, False, True, False]\n"
     ]
    }
   ],
   "source": [
    "is_even = [x %2==0 for x in range(10)]\n",
    "print(is_even)\n"
   ]
  },
  {
   "cell_type": "code",
   "execution_count": 37,
   "id": "ca3b7aa8",
   "metadata": {},
   "outputs": [
    {
     "name": "stdout",
     "output_type": "stream",
     "text": [
      "[True, False, True, False, True, False, True, False, True, False]\n"
     ]
    }
   ],
   "source": [
    "is_even =[]\n",
    "for x in range (10):\n",
    "    is_even.append(x%2==0)\n",
    "print(is_even)"
   ]
  },
  {
   "cell_type": "code",
   "execution_count": 40,
   "id": "17042044",
   "metadata": {},
   "outputs": [
    {
     "name": "stdout",
     "output_type": "stream",
     "text": [
      "['1', '2', '3']\n"
     ]
    }
   ],
   "source": [
    "digits = [char for char in \"a1b2c3\" if char.isdigit()]\n",
    "print(digits)"
   ]
  },
  {
   "cell_type": "code",
   "execution_count": 44,
   "id": "58d57ea4",
   "metadata": {},
   "outputs": [
    {
     "name": "stdout",
     "output_type": "stream",
     "text": [
      "['1', '2', '3', '4']\n"
     ]
    }
   ],
   "source": [
    "digits =[]\n",
    "for char in \"a1b2b3c4\":\n",
    "    if char.isdigit():\n",
    "        digits.append(char)\n",
    "\n",
    "print(digits)"
   ]
  },
  {
   "cell_type": "code",
   "execution_count": null,
   "id": "1d8d7f52",
   "metadata": {},
   "outputs": [
    {
     "name": "stdout",
     "output_type": "stream",
     "text": [
      "[4, 9, 1, 16, 25]\n"
     ]
    }
   ],
   "source": [
    "#Square only negative numbers in a list\n",
    "\n",
    "\n",
    "neg_squares =[]\n",
    "for x in [-2,-3,2,-1,-4,3,-5]:\n",
    "    if x <0:\n",
    "        neg_squares.append(x**2)\n",
    "\n",
    "print(neg_squares)"
   ]
  },
  {
   "cell_type": "code",
   "execution_count": 50,
   "id": "7e5d3976",
   "metadata": {},
   "outputs": [
    {
     "name": "stdout",
     "output_type": "stream",
     "text": [
      "[9, 1, 25]\n"
     ]
    }
   ],
   "source": [
    "neg_squares = [x**2 for x in [-3, 2, -1, 4, -5] if x < 0]\n",
    "print(neg_squares)"
   ]
  },
  {
   "cell_type": "code",
   "execution_count": 52,
   "id": "30357831",
   "metadata": {},
   "outputs": [
    {
     "name": "stdout",
     "output_type": "stream",
     "text": [
      "['pmahc', 'hsay']\n"
     ]
    }
   ],
   "source": [
    "# Create a list of reversed words\n",
    "rev_word =[word[::-1] for word in ['champ','yash']]\n",
    "print(rev_word)"
   ]
  },
  {
   "cell_type": "code",
   "execution_count": 53,
   "id": "5e84ea8b",
   "metadata": {},
   "outputs": [
    {
     "name": "stdout",
     "output_type": "stream",
     "text": [
      "['olleh', 'dlrow']\n"
     ]
    }
   ],
   "source": [
    "reversed_words = []\n",
    "for word in [\"hello\", \"world\"]:\n",
    "    reversed_words.append(word[::-1])\n",
    "print(reversed_words)"
   ]
  },
  {
   "cell_type": "code",
   "execution_count": null,
   "id": "62ca1e0a",
   "metadata": {},
   "outputs": [],
   "source": []
  },
  {
   "cell_type": "code",
   "execution_count": 54,
   "id": "04967645",
   "metadata": {},
   "outputs": [
    {
     "name": "stdout",
     "output_type": "stream",
     "text": [
      "['notebook', 'eraser']\n"
     ]
    }
   ],
   "source": [
    "# Filter words longer than 4 letters\n",
    "\n",
    "long_words = [word for word in [\"pen\", \"notebook\", \"eraser\", \"box\"] if len(word) > 4]\n",
    "print(long_words)"
   ]
  },
  {
   "cell_type": "code",
   "execution_count": 57,
   "id": "6825bbde",
   "metadata": {},
   "outputs": [
    {
     "name": "stdout",
     "output_type": "stream",
     "text": [
      "['lets go', 'eraser']\n"
     ]
    }
   ],
   "source": [
    "long_words = []\n",
    "for word in [\"pen\", \"lets go\", \"eraser\", \"box\"]:\n",
    "    if len(word) > 4:\n",
    "        long_words.append(word)\n",
    "print(long_words)"
   ]
  },
  {
   "cell_type": "code",
   "execution_count": null,
   "id": "d0da2608",
   "metadata": {},
   "outputs": [],
   "source": []
  }
 ],
 "metadata": {
  "kernelspec": {
   "display_name": "Python 3",
   "language": "python",
   "name": "python3"
  },
  "language_info": {
   "codemirror_mode": {
    "name": "ipython",
    "version": 3
   },
   "file_extension": ".py",
   "mimetype": "text/x-python",
   "name": "python",
   "nbconvert_exporter": "python",
   "pygments_lexer": "ipython3",
   "version": "3.12.5"
  }
 },
 "nbformat": 4,
 "nbformat_minor": 5
}
