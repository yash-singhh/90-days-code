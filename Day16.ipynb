{
  "nbformat": 4,
  "nbformat_minor": 0,
  "metadata": {
    "colab": {
      "provenance": []
    },
    "kernelspec": {
      "name": "python3",
      "display_name": "Python 3"
    },
    "language_info": {
      "name": "python"
    }
  },
  "cells": [
    {
      "cell_type": "code",
      "execution_count": 2,
      "metadata": {
        "id": "Y5lEpxEf_raq",
        "colab": {
          "base_uri": "https://localhost:8080/"
        },
        "outputId": "d47e22a5-4317-4431-92af-44355677ba0c"
      },
      "outputs": [
        {
          "output_type": "stream",
          "name": "stdout",
          "text": [
            "enter the 1st no:1020\n",
            "enter the secondd no :20\n",
            "mul\n",
            "20400\n"
          ]
        }
      ],
      "source": [
        "def smart_calculator(a: int, b: int, operation: str):\n",
        "    if operation == \"add\":\n",
        "        return a + b\n",
        "    elif operation == \"sub\":\n",
        "        return a - b\n",
        "    elif operation == \"mul\":\n",
        "        return a * b\n",
        "    elif operation == \"div\":\n",
        "        if b == 0:\n",
        "            return \"Error: Division by zero\"\n",
        "        return a / b\n",
        "    else:\n",
        "        return \"Error: Invalid operation\"\n",
        "\n",
        "if __name__ == \"__main__\":\n",
        "    a = int(input(\"enter the 1st no:\"))\n",
        "    b = int(input(\"enter the secondd no :\"))\n",
        "    operation = input().strip()\n",
        "\n",
        "    result = smart_calculator(a, b, operation)\n",
        "    print(result)\n"
      ]
    },
    {
      "cell_type": "code",
      "source": [
        "def introduce(name, age):\n",
        "    print(f\"{name} is {age} years old.\")\n",
        "\n",
        "introduce(age=20, name=\"Alice\")\n"
      ],
      "metadata": {
        "colab": {
          "base_uri": "https://localhost:8080/"
        },
        "id": "GMF4jh3lszwe",
        "outputId": "e0e9266f-bf83-4893-ae2b-ca68d3d1fe93"
      },
      "execution_count": 5,
      "outputs": [
        {
          "output_type": "stream",
          "name": "stdout",
          "text": [
            "Alice is 20 years old.\n"
          ]
        }
      ]
    },
    {
      "cell_type": "code",
      "source": [
        "str =\"come on \"\n",
        "str1 = \"my buddy\"\n",
        "print(str+str1)"
      ],
      "metadata": {
        "colab": {
          "base_uri": "https://localhost:8080/"
        },
        "id": "D8_wkZ0KtFLq",
        "outputId": "bb6c8026-cad6-4b1e-eeb7-b499abe37632"
      },
      "execution_count": 7,
      "outputs": [
        {
          "output_type": "stream",
          "name": "stdout",
          "text": [
            "come on my buddy\n"
          ]
        }
      ]
    },
    {
      "cell_type": "code",
      "source": [],
      "metadata": {
        "id": "LJMMQ_mPwhiM"
      },
      "execution_count": null,
      "outputs": []
    },
    {
      "cell_type": "code",
      "source": [
        "a = [10, 20, 30, 40, 50]\n",
        "\n",
        "a[0], a[4] = a[4], a[0]\n",
        "\n",
        "print(a)"
      ],
      "metadata": {
        "colab": {
          "base_uri": "https://localhost:8080/"
        },
        "id": "bNX4J18NtnLh",
        "outputId": "63f11c80-c64f-4bb8-a7b9-0de286038f65"
      },
      "execution_count": 13,
      "outputs": [
        {
          "output_type": "stream",
          "name": "stdout",
          "text": [
            "[50, 20, 30, 40, 10]\n"
          ]
        }
      ]
    },
    {
      "cell_type": "code",
      "source": [
        "s=\"SGS\"\n",
        "print(s[1])\n",
        "s1 = s.replace(\"S\", \"A\")\n",
        "print(s1)\n",
        "s2 = s +s[1]\n",
        "print(s2)"
      ],
      "metadata": {
        "colab": {
          "base_uri": "https://localhost:8080/"
        },
        "id": "halQt24vtm8j",
        "outputId": "16f04754-cb4b-4dcc-8e3c-9caba96f4884"
      },
      "execution_count": 17,
      "outputs": [
        {
          "output_type": "stream",
          "name": "stdout",
          "text": [
            "G\n",
            "AGA\n",
            "SGSG\n"
          ]
        }
      ]
    },
    {
      "cell_type": "code",
      "source": [
        "s = \"\"\"I am Learnin\n",
        "g\"\"\"\n",
        "print(s)\n",
        "\n",
        "s = '''I'm a\n",
        "Geek'''\n",
        "print(s)\n"
      ],
      "metadata": {
        "colab": {
          "base_uri": "https://localhost:8080/"
        },
        "id": "kCSWrLNLxe5z",
        "outputId": "420e1832-a3a9-440d-d838-c5b43412026d"
      },
      "execution_count": 20,
      "outputs": [
        {
          "output_type": "stream",
          "name": "stdout",
          "text": [
            "I am Learnin\n",
            "g\n",
            "I'm a \n",
            "Geek\n"
          ]
        }
      ]
    },
    {
      "cell_type": "code",
      "source": [
        "\n",
        "\n",
        "s2 = s +s[1]\n",
        "print(s2)\n",
        "s = \"\"\"I am Learnin\n",
        "g\"\"\"\n",
        "print(s)\n",
        "\n",
        "s = '''I'm a\n",
        "Geek'''\n",
        "s\n"
      ],
      "metadata": {
        "id": "1yBf2rd7xvw3"
      },
      "execution_count": null,
      "outputs": []
    },
    {
      "cell_type": "code",
      "source": [
        "# prompt: randomly select 5 items from a list\n",
        "\n",
        "import random\n",
        "\n",
        "my_list = [1, 2, 3, 4, 5, 6, 7, 8, 9, 10]\n",
        "selected_items = random.sample(my_list, 5)\n",
        "selected_items"
      ],
      "metadata": {
        "colab": {
          "base_uri": "https://localhost:8080/"
        },
        "id": "veIORtDvxc3K",
        "outputId": "f7d4b182-1072-415d-ba1c-54d7b1d20bba"
      },
      "execution_count": 21,
      "outputs": [
        {
          "output_type": "execute_result",
          "data": {
            "text/plain": [
              "[3, 10, 1, 7, 6]"
            ]
          },
          "metadata": {},
          "execution_count": 21
        }
      ]
    },
    {
      "cell_type": "code",
      "source": [
        "#my clock\n",
        "\n",
        "\n",
        "import time\n",
        "\n",
        "def countdown(t):\n",
        "    while t:\n",
        "        mins, secs = divmod(t, 60)\n",
        "        timer = '{:02d}:{:02d}'.format(mins, secs)\n",
        "        print(timer, end='\\r')\n",
        "        time.sleep(1)\n",
        "        t -= 1\n",
        "\n",
        "    print(\"Fire in the hole!!\")\n",
        "\n",
        "t = input(\"Enter the time in seconds: \")\n",
        "\n",
        "countdown(int(t))"
      ],
      "metadata": {
        "colab": {
          "base_uri": "https://localhost:8080/"
        },
        "id": "ZC9rkTJstFHt",
        "outputId": "3a13f320-f34d-4191-c25b-7a670010dc27"
      },
      "execution_count": 22,
      "outputs": [
        {
          "output_type": "stream",
          "name": "stdout",
          "text": [
            "Enter the time in seconds: 2\n",
            "Fire in the hole!!\n"
          ]
        }
      ]
    },
    {
      "cell_type": "code",
      "source": [],
      "metadata": {
        "id": "GnMjDIDQtH95"
      },
      "execution_count": null,
      "outputs": []
    }
  ]
}