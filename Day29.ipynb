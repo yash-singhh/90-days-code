{
  "nbformat": 4,
  "nbformat_minor": 0,
  "metadata": {
    "colab": {
      "provenance": []
    },
    "kernelspec": {
      "name": "python3",
      "display_name": "Python 3"
    },
    "language_info": {
      "name": "python"
    }
  },
  "cells": [
    {
      "cell_type": "code",
      "execution_count": null,
      "metadata": {
        "id": "wIfanWAL4qpx"
      },
      "outputs": [],
      "source": [
        "a =[\"yash\",\"sing\",\"yash\"]\n",
        "seen=set()\n",
        "for seen in a:\n",
        "  if a  not in seen:\n",
        "    result.append(x)\n",
        "    seen.append(x)\n",
        "print(seen)"
      ]
    },
    {
      "cell_type": "code",
      "source": [
        "a = [\"yash\", \"champ\", \"yash\"]\n",
        "\n",
        "# Method: Using a set to track seen items\n",
        "result = []\n",
        "seen = set()\n",
        "for item in a:\n",
        "    if item not in seen:\n",
        "        result.append(item)\n",
        "        seen.add(item)\n",
        "\n",
        "print(result)  # Output: ['yash', 'champ']\n"
      ],
      "metadata": {
        "colab": {
          "base_uri": "https://localhost:8080/"
        },
        "id": "XJshj7CbvSly",
        "outputId": "1deb4659-a259-437e-dd74-348e3b9ba28e"
      },
      "execution_count": null,
      "outputs": [
        {
          "output_type": "stream",
          "name": "stdout",
          "text": [
            "['yash', 'champ']\n"
          ]
        }
      ]
    },
    {
      "cell_type": "code",
      "source": [
        "items = [\"apple\", \"banana\", \"apple\", \"orange\", \"banana\", \"grape\"]\n",
        "print(f\"Input: {items}\")\n",
        "\n",
        "# Count frequency first\n",
        "from collections import Counter\n",
        "counts = Counter(items)\n",
        "unique_items = [item for item, count in counts.items() if count == 1]\n",
        "print(f\"Output: {unique_items}\")"
      ],
      "metadata": {
        "id": "y7uuqtZowWSs",
        "colab": {
          "base_uri": "https://localhost:8080/"
        },
        "outputId": "abd1a5c3-d881-4769-ea85-8f647859683b"
      },
      "execution_count": null,
      "outputs": [
        {
          "output_type": "stream",
          "name": "stdout",
          "text": [
            "Input: ['apple', 'banana', 'apple', 'orange', 'banana', 'grape']\n",
            "Output: ['orange', 'grape']\n"
          ]
        }
      ]
    },
    {
      "cell_type": "code",
      "source": [],
      "metadata": {
        "id": "cbZ_djzA5mXC"
      },
      "execution_count": null,
      "outputs": []
    }
  ]
}